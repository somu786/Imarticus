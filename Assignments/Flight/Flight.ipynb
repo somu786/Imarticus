{
 "cells": [
  {
   "cell_type": "markdown",
   "id": "f262c7d7",
   "metadata": {},
   "source": [
    "# Importing Libraries.."
   ]
  },
  {
   "cell_type": "code",
   "execution_count": 1,
   "id": "6f2aa45a",
   "metadata": {},
   "outputs": [],
   "source": [
    "import pandas as pd\n",
    "import numpy as np\n",
    "import seaborn as sns\n",
    "from scipy import stats\n",
    "import matplotlib.pyplot as plt\n",
    "from scipy.stats import pearsonr\n",
    "from sklearn.model_selection import train_test_split\n",
    "from sklearn.preprocessing import MinMaxScaler\n",
    "from sklearn.linear_model import LinearRegression\n",
    "from sklearn.linear_model import LogisticRegression\n",
    "from sklearn.tree import DecisionTreeRegressor\n",
    "from sklearn.tree import DecisionTreeClassifier\n",
    "from sklearn.ensemble import RandomForestRegressor\n",
    "from sklearn.ensemble import RandomForestClassifier\n",
    "from sklearn.ensemble import GradientBoostingRegressor\n",
    "from sklearn.ensemble import GradientBoostingClassifier\n",
    "from sklearn.ensemble import AdaBoostRegressor\n",
    "from sklearn.ensemble import AdaBoostClassifier\n",
    "from sklearn.metrics import mean_squared_error\n",
    "from sklearn.metrics import accuracy_score\n",
    "from sklearn.metrics import r2_score"
   ]
  },
  {
   "cell_type": "markdown",
   "id": "537014dd",
   "metadata": {},
   "source": [
    "### Read the dataset"
   ]
  },
  {
   "cell_type": "code",
   "execution_count": 2,
   "id": "b0ca3095",
   "metadata": {},
   "outputs": [],
   "source": [
    "df = pd.read_csv(\"Flight.csv\")"
   ]
  },
  {
   "cell_type": "markdown",
   "id": "8f3386f4",
   "metadata": {},
   "source": [
    "### Check the dataset"
   ]
  },
  {
   "cell_type": "code",
   "execution_count": 3,
   "id": "80197c56",
   "metadata": {},
   "outputs": [
    {
     "data": {
      "text/html": [
       "<div>\n",
       "<style scoped>\n",
       "    .dataframe tbody tr th:only-of-type {\n",
       "        vertical-align: middle;\n",
       "    }\n",
       "\n",
       "    .dataframe tbody tr th {\n",
       "        vertical-align: top;\n",
       "    }\n",
       "\n",
       "    .dataframe thead th {\n",
       "        text-align: right;\n",
       "    }\n",
       "</style>\n",
       "<table border=\"1\" class=\"dataframe\">\n",
       "  <thead>\n",
       "    <tr style=\"text-align: right;\">\n",
       "      <th></th>\n",
       "      <th>Person</th>\n",
       "      <th>Item_Identifier</th>\n",
       "      <th>Length</th>\n",
       "      <th>Breadth</th>\n",
       "      <th>PaperQuality</th>\n",
       "      <th>Angle</th>\n",
       "      <th>Foldings</th>\n",
       "      <th>Windspeed</th>\n",
       "      <th>Dominanthand</th>\n",
       "      <th>Distance</th>\n",
       "    </tr>\n",
       "  </thead>\n",
       "  <tbody>\n",
       "    <tr>\n",
       "      <th>0</th>\n",
       "      <td>Kevin</td>\n",
       "      <td>Som</td>\n",
       "      <td>29.0</td>\n",
       "      <td>20.0</td>\n",
       "      <td>A</td>\n",
       "      <td>U</td>\n",
       "      <td>8</td>\n",
       "      <td>On</td>\n",
       "      <td>L</td>\n",
       "      <td>5</td>\n",
       "    </tr>\n",
       "    <tr>\n",
       "      <th>1</th>\n",
       "      <td>Kevin</td>\n",
       "      <td>kevin</td>\n",
       "      <td>23.0</td>\n",
       "      <td>16.0</td>\n",
       "      <td>B</td>\n",
       "      <td>U</td>\n",
       "      <td>8</td>\n",
       "      <td>On</td>\n",
       "      <td>L</td>\n",
       "      <td>5</td>\n",
       "    </tr>\n",
       "    <tr>\n",
       "      <th>2</th>\n",
       "      <td>Kevin</td>\n",
       "      <td>RR</td>\n",
       "      <td>NaN</td>\n",
       "      <td>18.0</td>\n",
       "      <td>A</td>\n",
       "      <td>L</td>\n",
       "      <td>10</td>\n",
       "      <td>On</td>\n",
       "      <td>R</td>\n",
       "      <td>6</td>\n",
       "    </tr>\n",
       "    <tr>\n",
       "      <th>3</th>\n",
       "      <td>Priya</td>\n",
       "      <td>Nithya</td>\n",
       "      <td>27.0</td>\n",
       "      <td>20.0</td>\n",
       "      <td>A</td>\n",
       "      <td>U</td>\n",
       "      <td>10</td>\n",
       "      <td>On</td>\n",
       "      <td>R</td>\n",
       "      <td>4</td>\n",
       "    </tr>\n",
       "    <tr>\n",
       "      <th>4</th>\n",
       "      <td>Priya</td>\n",
       "      <td>Priya</td>\n",
       "      <td>29.5</td>\n",
       "      <td>17.5</td>\n",
       "      <td>B</td>\n",
       "      <td>U</td>\n",
       "      <td>5</td>\n",
       "      <td>Off</td>\n",
       "      <td>R</td>\n",
       "      <td>8</td>\n",
       "    </tr>\n",
       "  </tbody>\n",
       "</table>\n",
       "</div>"
      ],
      "text/plain": [
       "  Person Item_Identifier  Length  Breadth PaperQuality Angle  Foldings  \\\n",
       "0  Kevin             Som    29.0     20.0            A     U         8   \n",
       "1  Kevin           kevin    23.0     16.0            B     U         8   \n",
       "2  Kevin              RR     NaN     18.0            A     L        10   \n",
       "3  Priya          Nithya    27.0     20.0            A     U        10   \n",
       "4  Priya           Priya    29.5     17.5            B     U         5   \n",
       "\n",
       "  Windspeed  Dominanthand  Distance  \n",
       "0         On            L         5  \n",
       "1         On            L         5  \n",
       "2         On            R         6  \n",
       "3         On            R         4  \n",
       "4        Off            R         8  "
      ]
     },
     "execution_count": 3,
     "metadata": {},
     "output_type": "execute_result"
    }
   ],
   "source": [
    "df.head()"
   ]
  },
  {
   "cell_type": "code",
   "execution_count": 4,
   "id": "1704566b",
   "metadata": {},
   "outputs": [
    {
     "data": {
      "text/plain": [
       "(88, 10)"
      ]
     },
     "execution_count": 4,
     "metadata": {},
     "output_type": "execute_result"
    }
   ],
   "source": [
    "df.shape"
   ]
  },
  {
   "cell_type": "code",
   "execution_count": 5,
   "id": "ae1570a4",
   "metadata": {},
   "outputs": [
    {
     "name": "stdout",
     "output_type": "stream",
     "text": [
      "<class 'pandas.core.frame.DataFrame'>\n",
      "RangeIndex: 88 entries, 0 to 87\n",
      "Data columns (total 10 columns):\n",
      " #   Column           Non-Null Count  Dtype  \n",
      "---  ------           --------------  -----  \n",
      " 0   Person           88 non-null     object \n",
      " 1   Item_Identifier  88 non-null     object \n",
      " 2   Length           71 non-null     float64\n",
      " 3   Breadth          88 non-null     float64\n",
      " 4   PaperQuality     80 non-null     object \n",
      " 5   Angle            84 non-null     object \n",
      " 6   Foldings         88 non-null     int64  \n",
      " 7   Windspeed        88 non-null     object \n",
      " 8   Dominanthand     88 non-null     object \n",
      " 9   Distance         88 non-null     int64  \n",
      "dtypes: float64(2), int64(2), object(6)\n",
      "memory usage: 7.0+ KB\n"
     ]
    }
   ],
   "source": [
    "df.info()"
   ]
  },
  {
   "cell_type": "code",
   "execution_count": 6,
   "id": "4e97576b",
   "metadata": {},
   "outputs": [
    {
     "data": {
      "text/html": [
       "<div>\n",
       "<style scoped>\n",
       "    .dataframe tbody tr th:only-of-type {\n",
       "        vertical-align: middle;\n",
       "    }\n",
       "\n",
       "    .dataframe tbody tr th {\n",
       "        vertical-align: top;\n",
       "    }\n",
       "\n",
       "    .dataframe thead th {\n",
       "        text-align: right;\n",
       "    }\n",
       "</style>\n",
       "<table border=\"1\" class=\"dataframe\">\n",
       "  <thead>\n",
       "    <tr style=\"text-align: right;\">\n",
       "      <th></th>\n",
       "      <th>Length</th>\n",
       "      <th>Breadth</th>\n",
       "      <th>Foldings</th>\n",
       "      <th>Distance</th>\n",
       "    </tr>\n",
       "  </thead>\n",
       "  <tbody>\n",
       "    <tr>\n",
       "      <th>count</th>\n",
       "      <td>71.000000</td>\n",
       "      <td>88.000000</td>\n",
       "      <td>88.000000</td>\n",
       "      <td>88.000000</td>\n",
       "    </tr>\n",
       "    <tr>\n",
       "      <th>mean</th>\n",
       "      <td>26.708451</td>\n",
       "      <td>18.500000</td>\n",
       "      <td>8.136364</td>\n",
       "      <td>6.090909</td>\n",
       "    </tr>\n",
       "    <tr>\n",
       "      <th>std</th>\n",
       "      <td>11.920268</td>\n",
       "      <td>1.339068</td>\n",
       "      <td>1.736570</td>\n",
       "      <td>1.974762</td>\n",
       "    </tr>\n",
       "    <tr>\n",
       "      <th>min</th>\n",
       "      <td>0.000000</td>\n",
       "      <td>16.000000</td>\n",
       "      <td>5.000000</td>\n",
       "      <td>1.000000</td>\n",
       "    </tr>\n",
       "    <tr>\n",
       "      <th>25%</th>\n",
       "      <td>22.500000</td>\n",
       "      <td>17.500000</td>\n",
       "      <td>8.000000</td>\n",
       "      <td>5.000000</td>\n",
       "    </tr>\n",
       "    <tr>\n",
       "      <th>50%</th>\n",
       "      <td>28.500000</td>\n",
       "      <td>18.500000</td>\n",
       "      <td>8.000000</td>\n",
       "      <td>6.000000</td>\n",
       "    </tr>\n",
       "    <tr>\n",
       "      <th>75%</th>\n",
       "      <td>29.500000</td>\n",
       "      <td>20.000000</td>\n",
       "      <td>10.000000</td>\n",
       "      <td>7.000000</td>\n",
       "    </tr>\n",
       "    <tr>\n",
       "      <th>max</th>\n",
       "      <td>98.000000</td>\n",
       "      <td>20.500000</td>\n",
       "      <td>10.000000</td>\n",
       "      <td>11.000000</td>\n",
       "    </tr>\n",
       "  </tbody>\n",
       "</table>\n",
       "</div>"
      ],
      "text/plain": [
       "          Length    Breadth   Foldings   Distance\n",
       "count  71.000000  88.000000  88.000000  88.000000\n",
       "mean   26.708451  18.500000   8.136364   6.090909\n",
       "std    11.920268   1.339068   1.736570   1.974762\n",
       "min     0.000000  16.000000   5.000000   1.000000\n",
       "25%    22.500000  17.500000   8.000000   5.000000\n",
       "50%    28.500000  18.500000   8.000000   6.000000\n",
       "75%    29.500000  20.000000  10.000000   7.000000\n",
       "max    98.000000  20.500000  10.000000  11.000000"
      ]
     },
     "execution_count": 6,
     "metadata": {},
     "output_type": "execute_result"
    }
   ],
   "source": [
    "df.describe()"
   ]
  },
  {
   "cell_type": "markdown",
   "id": "b789b072",
   "metadata": {},
   "source": [
    "### is any Null Values?"
   ]
  },
  {
   "cell_type": "code",
   "execution_count": 7,
   "id": "41fa217a",
   "metadata": {},
   "outputs": [
    {
     "data": {
      "text/plain": [
       "Person              0\n",
       "Item_Identifier     0\n",
       "Length             17\n",
       "Breadth             0\n",
       "PaperQuality        8\n",
       "Angle               4\n",
       "Foldings            0\n",
       "Windspeed           0\n",
       "Dominanthand        0\n",
       "Distance            0\n",
       "dtype: int64"
      ]
     },
     "execution_count": 7,
     "metadata": {},
     "output_type": "execute_result"
    }
   ],
   "source": [
    "df.isnull().sum()"
   ]
  },
  {
   "cell_type": "markdown",
   "id": "7c811512",
   "metadata": {},
   "source": [
    "Length, PaperQuality, Angle have missing values.."
   ]
  },
  {
   "cell_type": "markdown",
   "id": "31e195b7",
   "metadata": {},
   "source": [
    "#### Null values in length is replaced by its mean value"
   ]
  },
  {
   "cell_type": "code",
   "execution_count": 8,
   "id": "9ff07ae2",
   "metadata": {},
   "outputs": [],
   "source": [
    "df.Length.fillna(df.Length.mean(),inplace=True)"
   ]
  },
  {
   "cell_type": "code",
   "execution_count": 9,
   "id": "c896bc7b",
   "metadata": {},
   "outputs": [
    {
     "data": {
      "text/plain": [
       "{'whiskers': [<matplotlib.lines.Line2D at 0x2b1724abf40>,\n",
       "  <matplotlib.lines.Line2D at 0x2b1724c9250>],\n",
       " 'caps': [<matplotlib.lines.Line2D at 0x2b1724c95e0>,\n",
       "  <matplotlib.lines.Line2D at 0x2b1724c9970>],\n",
       " 'boxes': [<matplotlib.lines.Line2D at 0x2b1724abaf0>],\n",
       " 'medians': [<matplotlib.lines.Line2D at 0x2b1724c9d00>],\n",
       " 'fliers': [<matplotlib.lines.Line2D at 0x2b1724d60d0>],\n",
       " 'means': []}"
      ]
     },
     "execution_count": 9,
     "metadata": {},
     "output_type": "execute_result"
    },
    {
     "data": {
      "image/png": "[encoded data removed]",
      "text/plain": [
       "<Figure size 432x288 with 1 Axes>"
      ]
     },
     "metadata": {
      "needs_background": "light"
     },
     "output_type": "display_data"
    }
   ],
   "source": [
    "plt.boxplot(df.Length)"
   ]
  },
  {
   "cell_type": "markdown",
   "id": "ccfe7858",
   "metadata": {},
   "source": [
    "#### Handling Outlier (Length)"
   ]
  },
  {
   "cell_type": "code",
   "execution_count": 10,
   "id": "d5ba75f1",
   "metadata": {},
   "outputs": [],
   "source": [
    "q3 = df[\"Length\"].quantile(0.75)  \n",
    "q1 = df[\"Length\"].quantile(0.25)\n",
    "IQR = q3 - q1\n",
    "lower_limit = q1 - (IQR * 1.5)\n",
    "upper_limit = q3 + (IQR * 1.5)\n",
    "df['Length'] = np.where(df['Length'] >= upper_limit,upper_limit,np.where(df['Length'] <= lower_limit,lower_limit,df['Length']))"
   ]
  },
  {
   "cell_type": "code",
   "execution_count": 11,
   "id": "9dc012ff",
   "metadata": {},
   "outputs": [
    {
     "data": {
      "text/plain": [
       "{'whiskers': [<matplotlib.lines.Line2D at 0x2b1725bd760>,\n",
       "  <matplotlib.lines.Line2D at 0x2b1725bdaf0>],\n",
       " 'caps': [<matplotlib.lines.Line2D at 0x2b1725bde80>,\n",
       "  <matplotlib.lines.Line2D at 0x2b1725cb250>],\n",
       " 'boxes': [<matplotlib.lines.Line2D at 0x2b1725bd3d0>],\n",
       " 'medians': [<matplotlib.lines.Line2D at 0x2b1725cb5e0>],\n",
       " 'fliers': [<matplotlib.lines.Line2D at 0x2b1725cb970>],\n",
       " 'means': []}"
      ]
     },
     "execution_count": 11,
     "metadata": {},
     "output_type": "execute_result"
    },
    {
     "data": {
      "image/png": "[encoded data removed]",
      "text/plain": [
       "<Figure size 432x288 with 1 Axes>"
      ]
     },
     "metadata": {
      "needs_background": "light"
     },
     "output_type": "display_data"
    }
   ],
   "source": [
    "plt.boxplot(df['Length'])"
   ]
  },
  {
   "cell_type": "markdown",
   "id": "983c740d",
   "metadata": {},
   "source": [
    "### Handling Null values in paperQuality is replaced by the help of ItemIdentifier\n",
    "#### Every flight has the same paper quality in all observations."
   ]
  },
  {
   "cell_type": "code",
   "execution_count": 12,
   "id": "e46b6bd1",
   "metadata": {
    "scrolled": true
   },
   "outputs": [
    {
     "name": "stderr",
     "output_type": "stream",
     "text": [
      "C:\\Users\\raman\\anaconda3\\lib\\site-packages\\pandas\\core\\indexing.py:1732: SettingWithCopyWarning: \n",
      "A value is trying to be set on a copy of a slice from a DataFrame\n",
      "\n",
      "See the caveats in the documentation: https://pandas.pydata.org/pandas-docs/stable/user_guide/indexing.html#returning-a-view-versus-a-copy\n",
      "  self._setitem_single_block(indexer, value, name)\n"
     ]
    }
   ],
   "source": [
    "for j in df[df['PaperQuality'].isnull()].index.tolist():\n",
    "    df.PaperQuality.iloc[j] =  df.PaperQuality[df['Item_Identifier']==df['Item_Identifier'].iloc[j]].mode().max()"
   ]
  },
  {
   "cell_type": "code",
   "execution_count": 13,
   "id": "116d47a6",
   "metadata": {},
   "outputs": [
    {
     "name": "stderr",
     "output_type": "stream",
     "text": [
      "C:\\Users\\raman\\anaconda3\\lib\\site-packages\\seaborn\\_decorators.py:36: FutureWarning: Pass the following variable as a keyword arg: x. From version 0.12, the only valid positional argument will be `data`, and passing other arguments without an explicit keyword will result in an error or misinterpretation.\n",
      "  warnings.warn(\n"
     ]
    },
    {
     "data": {
      "text/plain": [
       "<AxesSubplot:xlabel='PaperQuality', ylabel='count'>"
      ]
     },
     "execution_count": 13,
     "metadata": {},
     "output_type": "execute_result"
    },
    {
     "data": {
      "image/png": "[encoded data removed]",
      "text/plain": [
       "<Figure size 432x288 with 1 Axes>"
      ]
     },
     "metadata": {
      "needs_background": "light"
     },
     "output_type": "display_data"
    }
   ],
   "source": [
    "sns.countplot(df['PaperQuality'])"
   ]
  },
  {
   "cell_type": "markdown",
   "id": "bd87a02b",
   "metadata": {},
   "source": [
    "### Handling Null values in Angle by the help of Person."
   ]
  },
  {
   "cell_type": "code",
   "execution_count": 14,
   "id": "dcff3a1f",
   "metadata": {
    "scrolled": true
   },
   "outputs": [
    {
     "name": "stderr",
     "output_type": "stream",
     "text": [
      "C:\\Users\\raman\\anaconda3\\lib\\site-packages\\pandas\\core\\indexing.py:1732: SettingWithCopyWarning: \n",
      "A value is trying to be set on a copy of a slice from a DataFrame\n",
      "\n",
      "See the caveats in the documentation: https://pandas.pydata.org/pandas-docs/stable/user_guide/indexing.html#returning-a-view-versus-a-copy\n",
      "  self._setitem_single_block(indexer, value, name)\n"
     ]
    }
   ],
   "source": [
    "for j in df[df['Angle'].isnull()].index.tolist():\n",
    "    df.Angle.iloc[j] =  df.Angle[df['Person']==df['Person'].iloc[j]].mode().max()"
   ]
  },
  {
   "cell_type": "code",
   "execution_count": 15,
   "id": "343b2120",
   "metadata": {},
   "outputs": [
    {
     "name": "stderr",
     "output_type": "stream",
     "text": [
      "C:\\Users\\raman\\anaconda3\\lib\\site-packages\\seaborn\\_decorators.py:36: FutureWarning: Pass the following variable as a keyword arg: x. From version 0.12, the only valid positional argument will be `data`, and passing other arguments without an explicit keyword will result in an error or misinterpretation.\n",
      "  warnings.warn(\n"
     ]
    },
    {
     "data": {
      "text/plain": [
       "<AxesSubplot:xlabel='Angle', ylabel='count'>"
      ]
     },
     "execution_count": 15,
     "metadata": {},
     "output_type": "execute_result"
    },
    {
     "data": {
      "image/png": "[encoded data removed]",
      "text/plain": [
       "<Figure size 432x288 with 1 Axes>"
      ]
     },
     "metadata": {
      "needs_background": "light"
     },
     "output_type": "display_data"
    }
   ],
   "source": [
    "sns.countplot(df['Angle'])"
   ]
  },
  {
   "cell_type": "code",
   "execution_count": 16,
   "id": "a9f4d17a",
   "metadata": {},
   "outputs": [
    {
     "data": {
      "text/plain": [
       "Person             0\n",
       "Item_Identifier    0\n",
       "Length             0\n",
       "Breadth            0\n",
       "PaperQuality       0\n",
       "Angle              0\n",
       "Foldings           0\n",
       "Windspeed          0\n",
       "Dominanthand       0\n",
       "Distance           0\n",
       "dtype: int64"
      ]
     },
     "execution_count": 16,
     "metadata": {},
     "output_type": "execute_result"
    }
   ],
   "source": [
    "df.isnull().sum()"
   ]
  },
  {
   "cell_type": "markdown",
   "id": "578badc2",
   "metadata": {},
   "source": [
    "Oh Yeah!! No Null values..!!!"
   ]
  },
  {
   "cell_type": "code",
   "execution_count": 17,
   "id": "1b070516",
   "metadata": {},
   "outputs": [
    {
     "data": {
      "text/plain": [
       "Index(['Person', 'Item_Identifier', 'Length', 'Breadth', 'PaperQuality',\n",
       "       'Angle', 'Foldings', 'Windspeed ', 'Dominanthand', 'Distance'],\n",
       "      dtype='object')"
      ]
     },
     "execution_count": 17,
     "metadata": {},
     "output_type": "execute_result"
    }
   ],
   "source": [
    "df.columns"
   ]
  },
  {
   "cell_type": "markdown",
   "id": "e8fe19a6",
   "metadata": {},
   "source": [
    "### Here column Windspeed have trailing white space. Let Fix this..\n",
    "#### Remove extra space after column name"
   ]
  },
  {
   "cell_type": "code",
   "execution_count": 18,
   "id": "5ba8cbeb",
   "metadata": {},
   "outputs": [],
   "source": [
    "df.columns = df.columns.str.replace(' ','')"
   ]
  },
  {
   "cell_type": "code",
   "execution_count": 19,
   "id": "d2c393d4",
   "metadata": {},
   "outputs": [
    {
     "data": {
      "text/plain": [
       "Index(['Person', 'Item_Identifier', 'Length', 'Breadth', 'PaperQuality',\n",
       "       'Angle', 'Foldings', 'Windspeed', 'Dominanthand', 'Distance'],\n",
       "      dtype='object')"
      ]
     },
     "execution_count": 19,
     "metadata": {},
     "output_type": "execute_result"
    }
   ],
   "source": [
    "df.columns"
   ]
  },
  {
   "cell_type": "markdown",
   "id": "19f0c033",
   "metadata": {},
   "source": [
    "### is windspeed really affects Distance?\n",
    "#### Let check it with scatter plot and pearson test"
   ]
  },
  {
   "cell_type": "code",
   "execution_count": 20,
   "id": "621d754d",
   "metadata": {},
   "outputs": [
    {
     "data": {
      "text/plain": [
       "<AxesSubplot:xlabel='Windspeed', ylabel='Distance'>"
      ]
     },
     "execution_count": 20,
     "metadata": {},
     "output_type": "execute_result"
    },
    {
     "data": {
      "image/png": "[encoded data removed]",
      "text/plain": [
       "<Figure size 432x288 with 1 Axes>"
      ]
     },
     "metadata": {
      "needs_background": "light"
     },
     "output_type": "display_data"
    }
   ],
   "source": [
    "sns.scatterplot(x=df.Windspeed,y=df.Distance)"
   ]
  },
  {
   "cell_type": "code",
   "execution_count": 21,
   "id": "4f280083",
   "metadata": {},
   "outputs": [],
   "source": [
    "corr , p = pearsonr(df.Distance[df['Windspeed']=='On'],df.Distance[df['Windspeed']=='Off'])"
   ]
  },
  {
   "cell_type": "code",
   "execution_count": 22,
   "id": "d51d26af",
   "metadata": {},
   "outputs": [
    {
     "data": {
      "text/plain": [
       "0.469690377478983"
      ]
     },
     "execution_count": 22,
     "metadata": {},
     "output_type": "execute_result"
    }
   ],
   "source": [
    "p"
   ]
  },
  {
   "cell_type": "markdown",
   "id": "dfee1b48",
   "metadata": {},
   "source": [
    "### P value is greater than 0.05 , Distance is Not affted by Windspeed"
   ]
  },
  {
   "cell_type": "markdown",
   "id": "7398f730",
   "metadata": {},
   "source": [
    "### Task : Create a column that includes whether the person is thrown by his dominant or not.\n",
    "For example, if a person is actually a left-hander, he can also throw the flight with the right hand. For this case, our new column should know he/she is not thrown by the dominant hand. (Yes/No)\n",
    "\n",
    "#### Create a new column 'isDominant'"
   ]
  },
  {
   "cell_type": "code",
   "execution_count": 23,
   "id": "cfd30215",
   "metadata": {},
   "outputs": [],
   "source": [
    "df.insert(9,'isDominant','Yes')"
   ]
  },
  {
   "cell_type": "markdown",
   "id": "b994d8cb",
   "metadata": {},
   "source": [
    "### isDominant column values are filled based on the person's maximum throwing hand..."
   ]
  },
  {
   "cell_type": "code",
   "execution_count": 24,
   "id": "28dc3e0b",
   "metadata": {},
   "outputs": [
    {
     "name": "stderr",
     "output_type": "stream",
     "text": [
      "C:\\Users\\raman\\anaconda3\\lib\\site-packages\\pandas\\core\\indexing.py:1732: SettingWithCopyWarning: \n",
      "A value is trying to be set on a copy of a slice from a DataFrame\n",
      "\n",
      "See the caveats in the documentation: https://pandas.pydata.org/pandas-docs/stable/user_guide/indexing.html#returning-a-view-versus-a-copy\n",
      "  self._setitem_single_block(indexer, value, name)\n"
     ]
    }
   ],
   "source": [
    "row,col = df.shape\n",
    "for i in range(row):\n",
    "    if df.Dominanthand[df['Person']==df.Person.iloc[i]].mode().max() != df.Dominanthand.iloc[i]:\n",
    "        df.isDominant.iloc[i] = 'No'"
   ]
  },
  {
   "cell_type": "code",
   "execution_count": 25,
   "id": "63e77525",
   "metadata": {
    "scrolled": true
   },
   "outputs": [
    {
     "data": {
      "text/html": [
       "<div>\n",
       "<style scoped>\n",
       "    .dataframe tbody tr th:only-of-type {\n",
       "        vertical-align: middle;\n",
       "    }\n",
       "\n",
       "    .dataframe tbody tr th {\n",
       "        vertical-align: top;\n",
       "    }\n",
       "\n",
       "    .dataframe thead th {\n",
       "        text-align: right;\n",
       "    }\n",
       "</style>\n",
       "<table border=\"1\" class=\"dataframe\">\n",
       "  <thead>\n",
       "    <tr style=\"text-align: right;\">\n",
       "      <th></th>\n",
       "      <th>Person</th>\n",
       "      <th>Item_Identifier</th>\n",
       "      <th>Length</th>\n",
       "      <th>Breadth</th>\n",
       "      <th>PaperQuality</th>\n",
       "      <th>Angle</th>\n",
       "      <th>Foldings</th>\n",
       "      <th>Windspeed</th>\n",
       "      <th>Dominanthand</th>\n",
       "      <th>isDominant</th>\n",
       "      <th>Distance</th>\n",
       "    </tr>\n",
       "  </thead>\n",
       "  <tbody>\n",
       "    <tr>\n",
       "      <th>0</th>\n",
       "      <td>Kevin</td>\n",
       "      <td>Som</td>\n",
       "      <td>29.000000</td>\n",
       "      <td>20.0</td>\n",
       "      <td>A</td>\n",
       "      <td>U</td>\n",
       "      <td>8</td>\n",
       "      <td>On</td>\n",
       "      <td>L</td>\n",
       "      <td>Yes</td>\n",
       "      <td>5</td>\n",
       "    </tr>\n",
       "    <tr>\n",
       "      <th>1</th>\n",
       "      <td>Kevin</td>\n",
       "      <td>kevin</td>\n",
       "      <td>23.000000</td>\n",
       "      <td>16.0</td>\n",
       "      <td>B</td>\n",
       "      <td>U</td>\n",
       "      <td>8</td>\n",
       "      <td>On</td>\n",
       "      <td>L</td>\n",
       "      <td>Yes</td>\n",
       "      <td>5</td>\n",
       "    </tr>\n",
       "    <tr>\n",
       "      <th>2</th>\n",
       "      <td>Kevin</td>\n",
       "      <td>RR</td>\n",
       "      <td>26.708451</td>\n",
       "      <td>18.0</td>\n",
       "      <td>A</td>\n",
       "      <td>L</td>\n",
       "      <td>10</td>\n",
       "      <td>On</td>\n",
       "      <td>R</td>\n",
       "      <td>No</td>\n",
       "      <td>6</td>\n",
       "    </tr>\n",
       "    <tr>\n",
       "      <th>3</th>\n",
       "      <td>Priya</td>\n",
       "      <td>Nithya</td>\n",
       "      <td>27.000000</td>\n",
       "      <td>20.0</td>\n",
       "      <td>A</td>\n",
       "      <td>U</td>\n",
       "      <td>10</td>\n",
       "      <td>On</td>\n",
       "      <td>R</td>\n",
       "      <td>Yes</td>\n",
       "      <td>4</td>\n",
       "    </tr>\n",
       "    <tr>\n",
       "      <th>4</th>\n",
       "      <td>Priya</td>\n",
       "      <td>Priya</td>\n",
       "      <td>29.500000</td>\n",
       "      <td>17.5</td>\n",
       "      <td>B</td>\n",
       "      <td>U</td>\n",
       "      <td>5</td>\n",
       "      <td>Off</td>\n",
       "      <td>R</td>\n",
       "      <td>Yes</td>\n",
       "      <td>8</td>\n",
       "    </tr>\n",
       "  </tbody>\n",
       "</table>\n",
       "</div>"
      ],
      "text/plain": [
       "  Person Item_Identifier     Length  Breadth PaperQuality Angle  Foldings  \\\n",
       "0  Kevin             Som  29.000000     20.0            A     U         8   \n",
       "1  Kevin           kevin  23.000000     16.0            B     U         8   \n",
       "2  Kevin              RR  26.708451     18.0            A     L        10   \n",
       "3  Priya          Nithya  27.000000     20.0            A     U        10   \n",
       "4  Priya           Priya  29.500000     17.5            B     U         5   \n",
       "\n",
       "  Windspeed Dominanthand isDominant  Distance  \n",
       "0        On            L        Yes         5  \n",
       "1        On            L        Yes         5  \n",
       "2        On            R         No         6  \n",
       "3        On            R        Yes         4  \n",
       "4       Off            R        Yes         8  "
      ]
     },
     "execution_count": 25,
     "metadata": {},
     "output_type": "execute_result"
    }
   ],
   "source": [
    "df.head()"
   ]
  },
  {
   "cell_type": "markdown",
   "id": "e024881e",
   "metadata": {},
   "source": [
    "### One more New Column \"DistanceClf\""
   ]
  },
  {
   "cell_type": "markdown",
   "id": "16bf29b5",
   "metadata": {},
   "source": [
    "For this dataset we have to predict distance, which is continuous data. So we will be able to do all the regression stuff. But  for doing classification, our distance should be in discrete data type. For that I'm gonna add a new column that includes Below_5 as 0 and Above_5 as 1 wich is discrete."
   ]
  },
  {
   "cell_type": "code",
   "execution_count": 26,
   "id": "e38abf0c",
   "metadata": {},
   "outputs": [],
   "source": [
    "df['DistanceClf'] = df.Distance"
   ]
  },
  {
   "cell_type": "code",
   "execution_count": 27,
   "id": "b6850b7c",
   "metadata": {},
   "outputs": [],
   "source": [
    "df.loc[df[\"DistanceClf\"] < 5, \"DistanceClf\"] = 0\n",
    "df.loc[df[\"DistanceClf\"] != 0, \"DistanceClf\"] = 1"
   ]
  },
  {
   "cell_type": "code",
   "execution_count": 28,
   "id": "7fd7e796",
   "metadata": {},
   "outputs": [
    {
     "data": {
      "text/html": [
       "<div>\n",
       "<style scoped>\n",
       "    .dataframe tbody tr th:only-of-type {\n",
       "        vertical-align: middle;\n",
       "    }\n",
       "\n",
       "    .dataframe tbody tr th {\n",
       "        vertical-align: top;\n",
       "    }\n",
       "\n",
       "    .dataframe thead th {\n",
       "        text-align: right;\n",
       "    }\n",
       "</style>\n",
       "<table border=\"1\" class=\"dataframe\">\n",
       "  <thead>\n",
       "    <tr style=\"text-align: right;\">\n",
       "      <th></th>\n",
       "      <th>Person</th>\n",
       "      <th>Item_Identifier</th>\n",
       "      <th>Length</th>\n",
       "      <th>Breadth</th>\n",
       "      <th>PaperQuality</th>\n",
       "      <th>Angle</th>\n",
       "      <th>Foldings</th>\n",
       "      <th>Windspeed</th>\n",
       "      <th>Dominanthand</th>\n",
       "      <th>isDominant</th>\n",
       "      <th>Distance</th>\n",
       "      <th>DistanceClf</th>\n",
       "    </tr>\n",
       "  </thead>\n",
       "  <tbody>\n",
       "    <tr>\n",
       "      <th>0</th>\n",
       "      <td>Kevin</td>\n",
       "      <td>Som</td>\n",
       "      <td>29.000000</td>\n",
       "      <td>20.0</td>\n",
       "      <td>A</td>\n",
       "      <td>U</td>\n",
       "      <td>8</td>\n",
       "      <td>On</td>\n",
       "      <td>L</td>\n",
       "      <td>Yes</td>\n",
       "      <td>5</td>\n",
       "      <td>1</td>\n",
       "    </tr>\n",
       "    <tr>\n",
       "      <th>1</th>\n",
       "      <td>Kevin</td>\n",
       "      <td>kevin</td>\n",
       "      <td>23.000000</td>\n",
       "      <td>16.0</td>\n",
       "      <td>B</td>\n",
       "      <td>U</td>\n",
       "      <td>8</td>\n",
       "      <td>On</td>\n",
       "      <td>L</td>\n",
       "      <td>Yes</td>\n",
       "      <td>5</td>\n",
       "      <td>1</td>\n",
       "    </tr>\n",
       "    <tr>\n",
       "      <th>2</th>\n",
       "      <td>Kevin</td>\n",
       "      <td>RR</td>\n",
       "      <td>26.708451</td>\n",
       "      <td>18.0</td>\n",
       "      <td>A</td>\n",
       "      <td>L</td>\n",
       "      <td>10</td>\n",
       "      <td>On</td>\n",
       "      <td>R</td>\n",
       "      <td>No</td>\n",
       "      <td>6</td>\n",
       "      <td>1</td>\n",
       "    </tr>\n",
       "    <tr>\n",
       "      <th>3</th>\n",
       "      <td>Priya</td>\n",
       "      <td>Nithya</td>\n",
       "      <td>27.000000</td>\n",
       "      <td>20.0</td>\n",
       "      <td>A</td>\n",
       "      <td>U</td>\n",
       "      <td>10</td>\n",
       "      <td>On</td>\n",
       "      <td>R</td>\n",
       "      <td>Yes</td>\n",
       "      <td>4</td>\n",
       "      <td>0</td>\n",
       "    </tr>\n",
       "    <tr>\n",
       "      <th>4</th>\n",
       "      <td>Priya</td>\n",
       "      <td>Priya</td>\n",
       "      <td>29.500000</td>\n",
       "      <td>17.5</td>\n",
       "      <td>B</td>\n",
       "      <td>U</td>\n",
       "      <td>5</td>\n",
       "      <td>Off</td>\n",
       "      <td>R</td>\n",
       "      <td>Yes</td>\n",
       "      <td>8</td>\n",
       "      <td>1</td>\n",
       "    </tr>\n",
       "  </tbody>\n",
       "</table>\n",
       "</div>"
      ],
      "text/plain": [
       "  Person Item_Identifier     Length  Breadth PaperQuality Angle  Foldings  \\\n",
       "0  Kevin             Som  29.000000     20.0            A     U         8   \n",
       "1  Kevin           kevin  23.000000     16.0            B     U         8   \n",
       "2  Kevin              RR  26.708451     18.0            A     L        10   \n",
       "3  Priya          Nithya  27.000000     20.0            A     U        10   \n",
       "4  Priya           Priya  29.500000     17.5            B     U         5   \n",
       "\n",
       "  Windspeed Dominanthand isDominant  Distance  DistanceClf  \n",
       "0        On            L        Yes         5            1  \n",
       "1        On            L        Yes         5            1  \n",
       "2        On            R         No         6            1  \n",
       "3        On            R        Yes         4            0  \n",
       "4       Off            R        Yes         8            1  "
      ]
     },
     "execution_count": 28,
     "metadata": {},
     "output_type": "execute_result"
    }
   ],
   "source": [
    "df.head()"
   ]
  },
  {
   "cell_type": "markdown",
   "id": "0719f35f",
   "metadata": {},
   "source": [
    "\n",
    "#### column Person and Item_Identifier was dropped as it did not affect distance"
   ]
  },
  {
   "cell_type": "code",
   "execution_count": 29,
   "id": "4a870469",
   "metadata": {},
   "outputs": [],
   "source": [
    "df.drop(['Person','Item_Identifier'],axis=1,inplace=True)"
   ]
  },
  {
   "cell_type": "code",
   "execution_count": 30,
   "id": "77983038",
   "metadata": {},
   "outputs": [
    {
     "name": "stdout",
     "output_type": "stream",
     "text": [
      "<class 'pandas.core.frame.DataFrame'>\n",
      "RangeIndex: 88 entries, 0 to 87\n",
      "Data columns (total 10 columns):\n",
      " #   Column        Non-Null Count  Dtype  \n",
      "---  ------        --------------  -----  \n",
      " 0   Length        88 non-null     float64\n",
      " 1   Breadth       88 non-null     float64\n",
      " 2   PaperQuality  88 non-null     object \n",
      " 3   Angle         88 non-null     object \n",
      " 4   Foldings      88 non-null     int64  \n",
      " 5   Windspeed     88 non-null     object \n",
      " 6   Dominanthand  88 non-null     object \n",
      " 7   isDominant    88 non-null     object \n",
      " 8   Distance      88 non-null     int64  \n",
      " 9   DistanceClf   88 non-null     int64  \n",
      "dtypes: float64(2), int64(3), object(5)\n",
      "memory usage: 7.0+ KB\n"
     ]
    }
   ],
   "source": [
    "df.info()"
   ]
  },
  {
   "cell_type": "markdown",
   "id": "4eb3e979",
   "metadata": {},
   "source": [
    "##### As you see above info some columns have object data type. We know that the regression and classification algorithm only works with float or int, not object type. So Time to use pd.get_dummies.."
   ]
  },
  {
   "cell_type": "markdown",
   "id": "12d257b7",
   "metadata": {},
   "source": [
    "In this dataset, we know column 'Foldings' is discrete type. by converting that column to str, pd.dummies will able to process Foldings as discrete "
   ]
  },
  {
   "cell_type": "code",
   "execution_count": 31,
   "id": "64417bc8",
   "metadata": {},
   "outputs": [],
   "source": [
    "df[\"Foldings\"]= df[\"Foldings\"].astype(str)"
   ]
  },
  {
   "cell_type": "code",
   "execution_count": 32,
   "id": "711e9c63",
   "metadata": {},
   "outputs": [],
   "source": [
    "df = pd.get_dummies(df)"
   ]
  },
  {
   "cell_type": "code",
   "execution_count": 33,
   "id": "3e8ed6e6",
   "metadata": {},
   "outputs": [
    {
     "name": "stdout",
     "output_type": "stream",
     "text": [
      "<class 'pandas.core.frame.DataFrame'>\n",
      "RangeIndex: 88 entries, 0 to 87\n",
      "Data columns (total 17 columns):\n",
      " #   Column          Non-Null Count  Dtype  \n",
      "---  ------          --------------  -----  \n",
      " 0   Length          88 non-null     float64\n",
      " 1   Breadth         88 non-null     float64\n",
      " 2   Distance        88 non-null     int64  \n",
      " 3   DistanceClf     88 non-null     int64  \n",
      " 4   PaperQuality_A  88 non-null     uint8  \n",
      " 5   PaperQuality_B  88 non-null     uint8  \n",
      " 6   Angle_L         88 non-null     uint8  \n",
      " 7   Angle_U         88 non-null     uint8  \n",
      " 8   Foldings_10     88 non-null     uint8  \n",
      " 9   Foldings_5      88 non-null     uint8  \n",
      " 10  Foldings_8      88 non-null     uint8  \n",
      " 11  Windspeed_Off   88 non-null     uint8  \n",
      " 12  Windspeed_On    88 non-null     uint8  \n",
      " 13  Dominanthand_L  88 non-null     uint8  \n",
      " 14  Dominanthand_R  88 non-null     uint8  \n",
      " 15  isDominant_No   88 non-null     uint8  \n",
      " 16  isDominant_Yes  88 non-null     uint8  \n",
      "dtypes: float64(2), int64(2), uint8(13)\n",
      "memory usage: 4.0 KB\n"
     ]
    }
   ],
   "source": [
    "df.info()"
   ]
  },
  {
   "cell_type": "code",
   "execution_count": 34,
   "id": "64777a6c",
   "metadata": {},
   "outputs": [
    {
     "data": {
      "text/plain": [
       "MinMaxScaler()"
      ]
     },
     "execution_count": 34,
     "metadata": {},
     "output_type": "execute_result"
    }
   ],
   "source": [
    "scaler = MinMaxScaler()\n",
    "scaler.fit(df)"
   ]
  },
  {
   "cell_type": "code",
   "execution_count": 35,
   "id": "46d4313a",
   "metadata": {},
   "outputs": [],
   "source": [
    "scalerData = scaler.transform(df)\n",
    "scalerData = pd.DataFrame(scalerData)"
   ]
  },
  {
   "cell_type": "code",
   "execution_count": 36,
   "id": "f28e716a",
   "metadata": {},
   "outputs": [
    {
     "data": {
      "text/html": [
       "<div>\n",
       "<style scoped>\n",
       "    .dataframe tbody tr th:only-of-type {\n",
       "        vertical-align: middle;\n",
       "    }\n",
       "\n",
       "    .dataframe tbody tr th {\n",
       "        vertical-align: top;\n",
       "    }\n",
       "\n",
       "    .dataframe thead th {\n",
       "        text-align: right;\n",
       "    }\n",
       "</style>\n",
       "<table border=\"1\" class=\"dataframe\">\n",
       "  <thead>\n",
       "    <tr style=\"text-align: right;\">\n",
       "      <th></th>\n",
       "      <th>0</th>\n",
       "      <th>1</th>\n",
       "      <th>2</th>\n",
       "      <th>3</th>\n",
       "      <th>4</th>\n",
       "      <th>5</th>\n",
       "      <th>6</th>\n",
       "      <th>7</th>\n",
       "      <th>8</th>\n",
       "      <th>9</th>\n",
       "      <th>10</th>\n",
       "      <th>11</th>\n",
       "      <th>12</th>\n",
       "      <th>13</th>\n",
       "      <th>14</th>\n",
       "      <th>15</th>\n",
       "      <th>16</th>\n",
       "    </tr>\n",
       "  </thead>\n",
       "  <tbody>\n",
       "    <tr>\n",
       "      <th>count</th>\n",
       "      <td>88.000000</td>\n",
       "      <td>88.000000</td>\n",
       "      <td>88.000000</td>\n",
       "      <td>88.000000</td>\n",
       "      <td>88.000000</td>\n",
       "      <td>88.000000</td>\n",
       "      <td>88.000000</td>\n",
       "      <td>88.000000</td>\n",
       "      <td>88.000000</td>\n",
       "      <td>88.000000</td>\n",
       "      <td>88.000000</td>\n",
       "      <td>88.000000</td>\n",
       "      <td>88.000000</td>\n",
       "      <td>88.000000</td>\n",
       "      <td>88.000000</td>\n",
       "      <td>88.000000</td>\n",
       "      <td>88.000000</td>\n",
       "    </tr>\n",
       "    <tr>\n",
       "      <th>mean</th>\n",
       "      <td>0.467809</td>\n",
       "      <td>0.555556</td>\n",
       "      <td>0.509091</td>\n",
       "      <td>0.829545</td>\n",
       "      <td>0.409091</td>\n",
       "      <td>0.590909</td>\n",
       "      <td>0.250000</td>\n",
       "      <td>0.750000</td>\n",
       "      <td>0.340909</td>\n",
       "      <td>0.181818</td>\n",
       "      <td>0.477273</td>\n",
       "      <td>0.500000</td>\n",
       "      <td>0.500000</td>\n",
       "      <td>0.204545</td>\n",
       "      <td>0.795455</td>\n",
       "      <td>0.136364</td>\n",
       "      <td>0.863636</td>\n",
       "    </tr>\n",
       "    <tr>\n",
       "      <th>std</th>\n",
       "      <td>0.198449</td>\n",
       "      <td>0.297571</td>\n",
       "      <td>0.197476</td>\n",
       "      <td>0.378187</td>\n",
       "      <td>0.494484</td>\n",
       "      <td>0.494484</td>\n",
       "      <td>0.435494</td>\n",
       "      <td>0.435494</td>\n",
       "      <td>0.476731</td>\n",
       "      <td>0.387905</td>\n",
       "      <td>0.502346</td>\n",
       "      <td>0.502865</td>\n",
       "      <td>0.502865</td>\n",
       "      <td>0.405681</td>\n",
       "      <td>0.405681</td>\n",
       "      <td>0.345141</td>\n",
       "      <td>0.345141</td>\n",
       "    </tr>\n",
       "    <tr>\n",
       "      <th>min</th>\n",
       "      <td>0.000000</td>\n",
       "      <td>0.000000</td>\n",
       "      <td>0.000000</td>\n",
       "      <td>0.000000</td>\n",
       "      <td>0.000000</td>\n",
       "      <td>0.000000</td>\n",
       "      <td>0.000000</td>\n",
       "      <td>0.000000</td>\n",
       "      <td>0.000000</td>\n",
       "      <td>0.000000</td>\n",
       "      <td>0.000000</td>\n",
       "      <td>0.000000</td>\n",
       "      <td>0.000000</td>\n",
       "      <td>0.000000</td>\n",
       "      <td>0.000000</td>\n",
       "      <td>0.000000</td>\n",
       "      <td>0.000000</td>\n",
       "    </tr>\n",
       "    <tr>\n",
       "      <th>25%</th>\n",
       "      <td>0.375000</td>\n",
       "      <td>0.333333</td>\n",
       "      <td>0.400000</td>\n",
       "      <td>1.000000</td>\n",
       "      <td>0.000000</td>\n",
       "      <td>0.000000</td>\n",
       "      <td>0.000000</td>\n",
       "      <td>0.750000</td>\n",
       "      <td>0.000000</td>\n",
       "      <td>0.000000</td>\n",
       "      <td>0.000000</td>\n",
       "      <td>0.000000</td>\n",
       "      <td>0.000000</td>\n",
       "      <td>0.000000</td>\n",
       "      <td>1.000000</td>\n",
       "      <td>0.000000</td>\n",
       "      <td>1.000000</td>\n",
       "    </tr>\n",
       "    <tr>\n",
       "      <th>50%</th>\n",
       "      <td>0.485423</td>\n",
       "      <td>0.555556</td>\n",
       "      <td>0.500000</td>\n",
       "      <td>1.000000</td>\n",
       "      <td>0.000000</td>\n",
       "      <td>1.000000</td>\n",
       "      <td>0.000000</td>\n",
       "      <td>1.000000</td>\n",
       "      <td>0.000000</td>\n",
       "      <td>0.000000</td>\n",
       "      <td>0.000000</td>\n",
       "      <td>0.500000</td>\n",
       "      <td>0.500000</td>\n",
       "      <td>0.000000</td>\n",
       "      <td>1.000000</td>\n",
       "      <td>0.000000</td>\n",
       "      <td>1.000000</td>\n",
       "    </tr>\n",
       "    <tr>\n",
       "      <th>75%</th>\n",
       "      <td>0.625000</td>\n",
       "      <td>0.888889</td>\n",
       "      <td>0.600000</td>\n",
       "      <td>1.000000</td>\n",
       "      <td>1.000000</td>\n",
       "      <td>1.000000</td>\n",
       "      <td>0.250000</td>\n",
       "      <td>1.000000</td>\n",
       "      <td>1.000000</td>\n",
       "      <td>0.000000</td>\n",
       "      <td>1.000000</td>\n",
       "      <td>1.000000</td>\n",
       "      <td>1.000000</td>\n",
       "      <td>0.000000</td>\n",
       "      <td>1.000000</td>\n",
       "      <td>0.000000</td>\n",
       "      <td>1.000000</td>\n",
       "    </tr>\n",
       "    <tr>\n",
       "      <th>max</th>\n",
       "      <td>1.000000</td>\n",
       "      <td>1.000000</td>\n",
       "      <td>1.000000</td>\n",
       "      <td>1.000000</td>\n",
       "      <td>1.000000</td>\n",
       "      <td>1.000000</td>\n",
       "      <td>1.000000</td>\n",
       "      <td>1.000000</td>\n",
       "      <td>1.000000</td>\n",
       "      <td>1.000000</td>\n",
       "      <td>1.000000</td>\n",
       "      <td>1.000000</td>\n",
       "      <td>1.000000</td>\n",
       "      <td>1.000000</td>\n",
       "      <td>1.000000</td>\n",
       "      <td>1.000000</td>\n",
       "      <td>1.000000</td>\n",
       "    </tr>\n",
       "  </tbody>\n",
       "</table>\n",
       "</div>"
      ],
      "text/plain": [
       "              0          1          2          3          4          5   \\\n",
       "count  88.000000  88.000000  88.000000  88.000000  88.000000  88.000000   \n",
       "mean    0.467809   0.555556   0.509091   0.829545   0.409091   0.590909   \n",
       "std     0.198449   0.297571   0.197476   0.378187   0.494484   0.494484   \n",
       "min     0.000000   0.000000   0.000000   0.000000   0.000000   0.000000   \n",
       "25%     0.375000   0.333333   0.400000   1.000000   0.000000   0.000000   \n",
       "50%     0.485423   0.555556   0.500000   1.000000   0.000000   1.000000   \n",
       "75%     0.625000   0.888889   0.600000   1.000000   1.000000   1.000000   \n",
       "max     1.000000   1.000000   1.000000   1.000000   1.000000   1.000000   \n",
       "\n",
       "              6          7          8          9          10         11  \\\n",
       "count  88.000000  88.000000  88.000000  88.000000  88.000000  88.000000   \n",
       "mean    0.250000   0.750000   0.340909   0.181818   0.477273   0.500000   \n",
       "std     0.435494   0.435494   0.476731   0.387905   0.502346   0.502865   \n",
       "min     0.000000   0.000000   0.000000   0.000000   0.000000   0.000000   \n",
       "25%     0.000000   0.750000   0.000000   0.000000   0.000000   0.000000   \n",
       "50%     0.000000   1.000000   0.000000   0.000000   0.000000   0.500000   \n",
       "75%     0.250000   1.000000   1.000000   0.000000   1.000000   1.000000   \n",
       "max     1.000000   1.000000   1.000000   1.000000   1.000000   1.000000   \n",
       "\n",
       "              12         13         14         15         16  \n",
       "count  88.000000  88.000000  88.000000  88.000000  88.000000  \n",
       "mean    0.500000   0.204545   0.795455   0.136364   0.863636  \n",
       "std     0.502865   0.405681   0.405681   0.345141   0.345141  \n",
       "min     0.000000   0.000000   0.000000   0.000000   0.000000  \n",
       "25%     0.000000   0.000000   1.000000   0.000000   1.000000  \n",
       "50%     0.500000   0.000000   1.000000   0.000000   1.000000  \n",
       "75%     1.000000   0.000000   1.000000   0.000000   1.000000  \n",
       "max     1.000000   1.000000   1.000000   1.000000   1.000000  "
      ]
     },
     "execution_count": 36,
     "metadata": {},
     "output_type": "execute_result"
    }
   ],
   "source": [
    "scalerData.describe()"
   ]
  },
  {
   "cell_type": "code",
   "execution_count": 37,
   "id": "e3199514",
   "metadata": {},
   "outputs": [],
   "source": [
    "x = df.drop(['Distance','DistanceClf'],axis=1)"
   ]
  },
  {
   "cell_type": "markdown",
   "id": "21da756a",
   "metadata": {},
   "source": [
    "# Regression\n",
    "For Regression our Y is Distance which is continuous"
   ]
  },
  {
   "cell_type": "code",
   "execution_count": 38,
   "id": "ceb5fa0c",
   "metadata": {},
   "outputs": [],
   "source": [
    "y = df['Distance']"
   ]
  },
  {
   "cell_type": "markdown",
   "id": "deae0f1d",
   "metadata": {},
   "source": [
    "### Splitting the dataset into training and testing set"
   ]
  },
  {
   "cell_type": "code",
   "execution_count": 39,
   "id": "8334a2d5",
   "metadata": {},
   "outputs": [],
   "source": [
    "train_x,test_x,train_y,test_y = train_test_split(x,y,test_size=0.2,random_state=42)"
   ]
  },
  {
   "cell_type": "markdown",
   "id": "dd54e503",
   "metadata": {},
   "source": [
    "## 1. Linear Regression"
   ]
  },
  {
   "cell_type": "code",
   "execution_count": 40,
   "id": "9116e1cd",
   "metadata": {},
   "outputs": [],
   "source": [
    "def LinearReg(train_x,train_y):\n",
    "    modelLinear=LinearRegression()\n",
    "    modelLinear.fit(train_x,train_y)\n",
    "    return mean_squared_error(test_y, modelLinear.predict(test_x), squared=False)"
   ]
  },
  {
   "cell_type": "markdown",
   "id": "fd865d2a",
   "metadata": {},
   "source": [
    "## 2. DecisionTree Regression"
   ]
  },
  {
   "cell_type": "code",
   "execution_count": 41,
   "id": "3ed4e4f7",
   "metadata": {},
   "outputs": [],
   "source": [
    "def DecisionTreeReg(train_x,train_y):\n",
    "    modeldtr = DecisionTreeRegressor(random_state=42)\n",
    "    modeldtr.fit(train_x,train_y)\n",
    "    return mean_squared_error(test_y, modeldtr.predict(test_x), squared=False)"
   ]
  },
  {
   "cell_type": "markdown",
   "id": "df5642e3",
   "metadata": {},
   "source": [
    "## 3. RandomForest Regression"
   ]
  },
  {
   "cell_type": "code",
   "execution_count": 42,
   "id": "49915538",
   "metadata": {},
   "outputs": [],
   "source": [
    "def RandomForestReg(train_x,train_y):\n",
    "    modelRFR = RandomForestRegressor(max_depth=2, random_state=42)\n",
    "    modelRFR.fit(train_x,train_y)\n",
    "    return mean_squared_error(test_y, modelRFR.predict(test_x), squared=False)"
   ]
  },
  {
   "cell_type": "markdown",
   "id": "c8c4bf87",
   "metadata": {},
   "source": [
    "## 4.GradientBoosting Regressor"
   ]
  },
  {
   "cell_type": "code",
   "execution_count": 43,
   "id": "f3777dcd",
   "metadata": {},
   "outputs": [],
   "source": [
    "def GradientBoostingReg(train_x,train_y):\n",
    "    modelgbr = GradientBoostingRegressor(n_estimators=100,max_depth=2, random_state=42)\n",
    "    modelgbr.fit(train_x,train_y)\n",
    "    return mean_squared_error(test_y, modelgbr.predict(test_x), squared=False)"
   ]
  },
  {
   "cell_type": "markdown",
   "id": "d5d33f97",
   "metadata": {},
   "source": [
    "## 5. AdaBoost Regressor"
   ]
  },
  {
   "cell_type": "code",
   "execution_count": 44,
   "id": "cee96a4b",
   "metadata": {},
   "outputs": [],
   "source": [
    "def AdaBoostReg(train_x,train_y):\n",
    "    modelabr = AdaBoostClassifier(random_state=42)\n",
    "    modelabr.fit(train_x,train_y)\n",
    "    return mean_squared_error(test_y, modelabr.predict(test_x), squared=False)"
   ]
  },
  {
   "cell_type": "markdown",
   "id": "db86065a",
   "metadata": {},
   "source": [
    "# Classification\n",
    "For Regression our Y is DistanceClf which is discrete"
   ]
  },
  {
   "cell_type": "code",
   "execution_count": 45,
   "id": "d2c71864",
   "metadata": {},
   "outputs": [],
   "source": [
    "y = df['DistanceClf']"
   ]
  },
  {
   "cell_type": "code",
   "execution_count": 46,
   "id": "069a1d30",
   "metadata": {},
   "outputs": [],
   "source": [
    "train_x,test_x,train_y,test_y = train_test_split(x,y,test_size=0.2,random_state=42)"
   ]
  },
  {
   "cell_type": "markdown",
   "id": "b1614d3c",
   "metadata": {},
   "source": [
    "## 1. Logistic Regression"
   ]
  },
  {
   "cell_type": "code",
   "execution_count": 47,
   "id": "754baa71",
   "metadata": {},
   "outputs": [],
   "source": [
    "def LogisticReg(train_x,train_y):\n",
    "    modelLogistic=LogisticRegression()\n",
    "    modelLogistic.fit(train_x,train_y)\n",
    "    return mean_squared_error(test_y, modelLogistic.predict(test_x), squared=False)"
   ]
  },
  {
   "cell_type": "markdown",
   "id": "9bf3e665",
   "metadata": {},
   "source": [
    "## 2. DecisionTree Classifier"
   ]
  },
  {
   "cell_type": "code",
   "execution_count": 48,
   "id": "ad0e48ae",
   "metadata": {},
   "outputs": [],
   "source": [
    "def DecisionTreeClf(train_x,train_y):\n",
    "    modeldtc = DecisionTreeClassifier(random_state=42)\n",
    "    modeldtc.fit(train_x,train_y)\n",
    "    return mean_squared_error(test_y, modeldtc.predict(test_x), squared=False)"
   ]
  },
  {
   "cell_type": "markdown",
   "id": "b500161b",
   "metadata": {},
   "source": [
    "## 3. RandomForset Classifier"
   ]
  },
  {
   "cell_type": "code",
   "execution_count": 49,
   "id": "20fc4ba6",
   "metadata": {},
   "outputs": [],
   "source": [
    "def RandomForestClf(train_x,train_y):\n",
    "    modelrfc = RandomForestClassifier(max_depth=2, random_state=42)\n",
    "    modelrfc.fit(train_x,train_y)\n",
    "    return mean_squared_error(test_y, modelrfc.predict(test_x), squared=False)"
   ]
  },
  {
   "cell_type": "markdown",
   "id": "246997e4",
   "metadata": {},
   "source": [
    "## 4. GradientBoosting Classifier"
   ]
  },
  {
   "cell_type": "code",
   "execution_count": 50,
   "id": "87e47437",
   "metadata": {},
   "outputs": [],
   "source": [
    "def GradientBoostingClf(train_x,train_y):\n",
    "    modelgbc = GradientBoostingClassifier(n_estimators=100,max_depth=2, random_state=42)\n",
    "    modelgbc.fit(train_x,train_y)\n",
    "    return mean_squared_error(test_y, modelgbc.predict(test_x), squared=False)"
   ]
  },
  {
   "cell_type": "markdown",
   "id": "3cdad109",
   "metadata": {},
   "source": [
    "## 5. AdaBoost Classifier"
   ]
  },
  {
   "cell_type": "code",
   "execution_count": 51,
   "id": "c4ac4cee",
   "metadata": {},
   "outputs": [],
   "source": [
    "def AdaBoostClf(train_x,train_y):\n",
    "    modelabc = AdaBoostClassifier(random_state=45)\n",
    "    modelabc.fit(train_x,train_y)\n",
    "    return mean_squared_error(test_y, modelabc.predict(test_x), squared=False)"
   ]
  },
  {
   "cell_type": "markdown",
   "id": "3abb11c4",
   "metadata": {},
   "source": [
    " "
   ]
  },
  {
   "cell_type": "markdown",
   "id": "a391e279",
   "metadata": {},
   "source": [
    "# Let's conclude which algorithm is best fits for our dataset"
   ]
  },
  {
   "cell_type": "markdown",
   "id": "6616deb7",
   "metadata": {},
   "source": [
    "## For Regression:"
   ]
  },
  {
   "cell_type": "markdown",
   "id": "48170ad4",
   "metadata": {},
   "source": [
    "An User-defined function that do all the regression model and return best model by comparing Root Mean Squared Error."
   ]
  },
  {
   "cell_type": "code",
   "execution_count": 52,
   "id": "4a002f47",
   "metadata": {},
   "outputs": [],
   "source": [
    "def Regression(train_x,train_y):\n",
    "    regFunc = [LinearReg,DecisionTreeReg,RandomForestReg,GradientBoostingReg,AdaBoostReg]\n",
    "    reg = ['Linear Regression','Decision Tree Regression','Random Forest Regression','Gradient Boosting Regression','AdaBoost Regression']\n",
    "    rmseScoreReg = []\n",
    "    for i in regFunc:\n",
    "        rmseScoreReg.append(i(train_x,train_y))      \n",
    "    return reg[rmseScoreReg.index(min(rmseScoreReg))],\"is the best fit for predictions\""
   ]
  },
  {
   "cell_type": "code",
   "execution_count": 53,
   "id": "f390358a",
   "metadata": {},
   "outputs": [
    {
     "name": "stdout",
     "output_type": "stream",
     "text": [
      "('Random Forest Regression', 'is the best fit for predictions')\n"
     ]
    }
   ],
   "source": [
    "print(Regression(train_x,train_y))"
   ]
  },
  {
   "cell_type": "markdown",
   "id": "0d6eb096",
   "metadata": {},
   "source": [
    "####  For Regression, the Random Forest algorithm is best fit as it has less RMSE value than other regression algorithms."
   ]
  },
  {
   "cell_type": "markdown",
   "id": "29339d03",
   "metadata": {},
   "source": [
    " "
   ]
  },
  {
   "cell_type": "markdown",
   "id": "e794ff0b",
   "metadata": {},
   "source": [
    "## For Classification:"
   ]
  },
  {
   "cell_type": "markdown",
   "id": "aeecde79",
   "metadata": {},
   "source": [
    "An User-defined function that do all the classification model and return best model by comparing Root Mean Squared Error."
   ]
  },
  {
   "cell_type": "code",
   "execution_count": 54,
   "id": "3952528d",
   "metadata": {},
   "outputs": [],
   "source": [
    "def Classification(train_x,train_y):\n",
    "    clfFunc = [LogisticReg,DecisionTreeClf,RandomForestClf,GradientBoostingClf,AdaBoostClf]\n",
    "    clf = ['LogisticRegression','Decision Tree Classification','Random Forest Classification','Gradient Boosting Classification','AdaBoost Classification']\n",
    "    rmseScoreClf = []\n",
    "    for j in clfFunc:\n",
    "        rmseScoreClf.append(j(train_x,train_y))      \n",
    "    return clf[rmseScoreClf.index(min(rmseScoreClf))],\"is the best fit for predictions\""
   ]
  },
  {
   "cell_type": "code",
   "execution_count": 55,
   "id": "0a5f29b0",
   "metadata": {},
   "outputs": [
    {
     "name": "stderr",
     "output_type": "stream",
     "text": [
      "C:\\Users\\raman\\anaconda3\\lib\\site-packages\\sklearn\\linear_model\\_logistic.py:763: ConvergenceWarning: lbfgs failed to converge (status=1):\n",
      "STOP: TOTAL NO. of ITERATIONS REACHED LIMIT.\n",
      "\n",
      "Increase the number of iterations (max_iter) or scale the data as shown in:\n",
      "    https://scikit-learn.org/stable/modules/preprocessing.html\n",
      "Please also refer to the documentation for alternative solver options:\n",
      "    https://scikit-learn.org/stable/modules/linear_model.html#logistic-regression\n",
      "  n_iter_i = _check_optimize_result(\n"
     ]
    },
    {
     "name": "stdout",
     "output_type": "stream",
     "text": [
      "('LogisticRegression', 'is the best fit for predictions')\n"
     ]
    }
   ],
   "source": [
    "print(Classification(train_x,train_y))"
   ]
  },
  {
   "cell_type": "markdown",
   "id": "6d524988",
   "metadata": {},
   "source": [
    "#### For Classification, the Logistic Regression algorithm is best fit as it has less RMSE value than other classification algorithms."
   ]
  }
 ],
 "metadata": {
  "kernelspec": {
   "display_name": "Python 3 (ipykernel)",
   "language": "python",
   "name": "python3"
  },
  "language_info": {
   "codemirror_mode": {
    "name": "ipython",
    "version": 3
   },
   "file_extension": ".py",
   "mimetype": "text/x-python",
   "name": "python",
   "nbconvert_exporter": "python",
   "pygments_lexer": "ipython3",
   "version": "3.9.7"
  }
 },
 "nbformat": 4,
 "nbformat_minor": 5
}
