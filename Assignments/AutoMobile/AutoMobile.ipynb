{
 "cells": [
  {
   "cell_type": "markdown",
   "id": "aef6f621",
   "metadata": {},
   "source": [
    "# Importing Libraries"
   ]
  },
  {
   "cell_type": "code",
   "execution_count": 1,
   "id": "cc2a544b",
   "metadata": {},
   "outputs": [],
   "source": [
    "import pandas as pd\n",
    "import numpy as np\n",
    "import seaborn as sns\n",
    "from scipy import stats\n",
    "import matplotlib.pyplot as plt\n",
    "import statsmodels.api as sm\n",
    "from scipy.stats import pearsonr\n",
    "from statsmodels.stats.proportion import proportions_ztest\n",
    "from sklearn.model_selection import train_test_split\n",
    "from sklearn.linear_model import LinearRegression"
   ]
  },
  {
   "cell_type": "markdown",
   "id": "dbd8bae7",
   "metadata": {},
   "source": [
    "##### We'll start by importing the data from Automobile.csv into a pandas dataframe, and replacing '?'(missing values) as null:"
   ]
  },
  {
   "cell_type": "code",
   "execution_count": 2,
   "id": "4c8f505b",
   "metadata": {},
   "outputs": [],
   "source": [
    "df = pd.read_csv(\"imports-85.data\",header=None,names=['symboling','normalizedLosses','make','fuelType','aspiration','numofdoors','bodyStyle','driveWheels','engineLocation','wheelBase','length','width','height','curbWeight','engineType','cylinders','engineSize','fuelSystem','bore','stroke','compRatio','horsepower','peak_rpm','city_mpg','highway_mpg','price'],na_values='?')"
   ]
  },
  {
   "cell_type": "markdown",
   "id": "c48d1817",
   "metadata": {},
   "source": [
    "In above step column names are initialized as there is no column name in dataset initially."
   ]
  },
  {
   "cell_type": "markdown",
   "id": "260b82a9",
   "metadata": {},
   "source": [
    "## Time for Data Preprocessing.."
   ]
  },
  {
   "cell_type": "markdown",
   "id": "3dc8b4a7",
   "metadata": {},
   "source": [
    "##### check the dataset"
   ]
  },
  {
   "cell_type": "code",
   "execution_count": 3,
   "id": "d2ad5b28",
   "metadata": {
    "scrolled": true
   },
   "outputs": [
    {
     "data": {
      "text/html": [
       "<div>\n",
       "<style scoped>\n",
       "    .dataframe tbody tr th:only-of-type {\n",
       "        vertical-align: middle;\n",
       "    }\n",
       "\n",
       "    .dataframe tbody tr th {\n",
       "        vertical-align: top;\n",
       "    }\n",
       "\n",
       "    .dataframe thead th {\n",
       "        text-align: right;\n",
       "    }\n",
       "</style>\n",
       "<table border=\"1\" class=\"dataframe\">\n",
       "  <thead>\n",
       "    <tr style=\"text-align: right;\">\n",
       "      <th></th>\n",
       "      <th>symboling</th>\n",
       "      <th>normalizedLosses</th>\n",
       "      <th>make</th>\n",
       "      <th>fuelType</th>\n",
       "      <th>aspiration</th>\n",
       "      <th>numofdoors</th>\n",
       "      <th>bodyStyle</th>\n",
       "      <th>driveWheels</th>\n",
       "      <th>engineLocation</th>\n",
       "      <th>wheelBase</th>\n",
       "      <th>...</th>\n",
       "      <th>engineSize</th>\n",
       "      <th>fuelSystem</th>\n",
       "      <th>bore</th>\n",
       "      <th>stroke</th>\n",
       "      <th>compRatio</th>\n",
       "      <th>horsepower</th>\n",
       "      <th>peak_rpm</th>\n",
       "      <th>city_mpg</th>\n",
       "      <th>highway_mpg</th>\n",
       "      <th>price</th>\n",
       "    </tr>\n",
       "  </thead>\n",
       "  <tbody>\n",
       "    <tr>\n",
       "      <th>0</th>\n",
       "      <td>3</td>\n",
       "      <td>NaN</td>\n",
       "      <td>alfa-romero</td>\n",
       "      <td>gas</td>\n",
       "      <td>std</td>\n",
       "      <td>two</td>\n",
       "      <td>convertible</td>\n",
       "      <td>rwd</td>\n",
       "      <td>front</td>\n",
       "      <td>88.6</td>\n",
       "      <td>...</td>\n",
       "      <td>130</td>\n",
       "      <td>mpfi</td>\n",
       "      <td>3.47</td>\n",
       "      <td>2.68</td>\n",
       "      <td>9.0</td>\n",
       "      <td>111.0</td>\n",
       "      <td>5000.0</td>\n",
       "      <td>21</td>\n",
       "      <td>27</td>\n",
       "      <td>13495.0</td>\n",
       "    </tr>\n",
       "    <tr>\n",
       "      <th>1</th>\n",
       "      <td>3</td>\n",
       "      <td>NaN</td>\n",
       "      <td>alfa-romero</td>\n",
       "      <td>gas</td>\n",
       "      <td>std</td>\n",
       "      <td>two</td>\n",
       "      <td>convertible</td>\n",
       "      <td>rwd</td>\n",
       "      <td>front</td>\n",
       "      <td>88.6</td>\n",
       "      <td>...</td>\n",
       "      <td>130</td>\n",
       "      <td>mpfi</td>\n",
       "      <td>3.47</td>\n",
       "      <td>2.68</td>\n",
       "      <td>9.0</td>\n",
       "      <td>111.0</td>\n",
       "      <td>5000.0</td>\n",
       "      <td>21</td>\n",
       "      <td>27</td>\n",
       "      <td>16500.0</td>\n",
       "    </tr>\n",
       "    <tr>\n",
       "      <th>2</th>\n",
       "      <td>1</td>\n",
       "      <td>NaN</td>\n",
       "      <td>alfa-romero</td>\n",
       "      <td>gas</td>\n",
       "      <td>std</td>\n",
       "      <td>two</td>\n",
       "      <td>hatchback</td>\n",
       "      <td>rwd</td>\n",
       "      <td>front</td>\n",
       "      <td>94.5</td>\n",
       "      <td>...</td>\n",
       "      <td>152</td>\n",
       "      <td>mpfi</td>\n",
       "      <td>2.68</td>\n",
       "      <td>3.47</td>\n",
       "      <td>9.0</td>\n",
       "      <td>154.0</td>\n",
       "      <td>5000.0</td>\n",
       "      <td>19</td>\n",
       "      <td>26</td>\n",
       "      <td>16500.0</td>\n",
       "    </tr>\n",
       "    <tr>\n",
       "      <th>3</th>\n",
       "      <td>2</td>\n",
       "      <td>164.0</td>\n",
       "      <td>audi</td>\n",
       "      <td>gas</td>\n",
       "      <td>std</td>\n",
       "      <td>four</td>\n",
       "      <td>sedan</td>\n",
       "      <td>fwd</td>\n",
       "      <td>front</td>\n",
       "      <td>99.8</td>\n",
       "      <td>...</td>\n",
       "      <td>109</td>\n",
       "      <td>mpfi</td>\n",
       "      <td>3.19</td>\n",
       "      <td>3.40</td>\n",
       "      <td>10.0</td>\n",
       "      <td>102.0</td>\n",
       "      <td>5500.0</td>\n",
       "      <td>24</td>\n",
       "      <td>30</td>\n",
       "      <td>13950.0</td>\n",
       "    </tr>\n",
       "    <tr>\n",
       "      <th>4</th>\n",
       "      <td>2</td>\n",
       "      <td>164.0</td>\n",
       "      <td>audi</td>\n",
       "      <td>gas</td>\n",
       "      <td>std</td>\n",
       "      <td>four</td>\n",
       "      <td>sedan</td>\n",
       "      <td>4wd</td>\n",
       "      <td>front</td>\n",
       "      <td>99.4</td>\n",
       "      <td>...</td>\n",
       "      <td>136</td>\n",
       "      <td>mpfi</td>\n",
       "      <td>3.19</td>\n",
       "      <td>3.40</td>\n",
       "      <td>8.0</td>\n",
       "      <td>115.0</td>\n",
       "      <td>5500.0</td>\n",
       "      <td>18</td>\n",
       "      <td>22</td>\n",
       "      <td>17450.0</td>\n",
       "    </tr>\n",
       "  </tbody>\n",
       "</table>\n",
       "<p>5 rows × 26 columns</p>\n",
       "</div>"
      ],
      "text/plain": [
       "   symboling  normalizedLosses         make fuelType aspiration numofdoors  \\\n",
       "0          3               NaN  alfa-romero      gas        std        two   \n",
       "1          3               NaN  alfa-romero      gas        std        two   \n",
       "2          1               NaN  alfa-romero      gas        std        two   \n",
       "3          2             164.0         audi      gas        std       four   \n",
       "4          2             164.0         audi      gas        std       four   \n",
       "\n",
       "     bodyStyle driveWheels engineLocation  wheelBase  ...  engineSize  \\\n",
       "0  convertible         rwd          front       88.6  ...         130   \n",
       "1  convertible         rwd          front       88.6  ...         130   \n",
       "2    hatchback         rwd          front       94.5  ...         152   \n",
       "3        sedan         fwd          front       99.8  ...         109   \n",
       "4        sedan         4wd          front       99.4  ...         136   \n",
       "\n",
       "   fuelSystem  bore  stroke compRatio horsepower  peak_rpm city_mpg  \\\n",
       "0        mpfi  3.47    2.68       9.0      111.0    5000.0       21   \n",
       "1        mpfi  3.47    2.68       9.0      111.0    5000.0       21   \n",
       "2        mpfi  2.68    3.47       9.0      154.0    5000.0       19   \n",
       "3        mpfi  3.19    3.40      10.0      102.0    5500.0       24   \n",
       "4        mpfi  3.19    3.40       8.0      115.0    5500.0       18   \n",
       "\n",
       "   highway_mpg    price  \n",
       "0           27  13495.0  \n",
       "1           27  16500.0  \n",
       "2           26  16500.0  \n",
       "3           30  13950.0  \n",
       "4           22  17450.0  \n",
       "\n",
       "[5 rows x 26 columns]"
      ]
     },
     "execution_count": 3,
     "metadata": {},
     "output_type": "execute_result"
    }
   ],
   "source": [
    "df.head()"
   ]
  },
  {
   "cell_type": "markdown",
   "id": "0d0791b7",
   "metadata": {},
   "source": [
    "##### check if null values is present in dataset or not....."
   ]
  },
  {
   "cell_type": "code",
   "execution_count": 4,
   "id": "071ac4a8",
   "metadata": {},
   "outputs": [
    {
     "data": {
      "text/plain": [
       "symboling            0\n",
       "normalizedLosses    41\n",
       "make                 0\n",
       "fuelType             0\n",
       "aspiration           0\n",
       "numofdoors           2\n",
       "bodyStyle            0\n",
       "driveWheels          0\n",
       "engineLocation       0\n",
       "wheelBase            0\n",
       "length               0\n",
       "width                0\n",
       "height               0\n",
       "curbWeight           0\n",
       "engineType           0\n",
       "cylinders            0\n",
       "engineSize           0\n",
       "fuelSystem           0\n",
       "bore                 4\n",
       "stroke               4\n",
       "compRatio            0\n",
       "horsepower           2\n",
       "peak_rpm             2\n",
       "city_mpg             0\n",
       "highway_mpg          0\n",
       "price                4\n",
       "dtype: int64"
      ]
     },
     "execution_count": 4,
     "metadata": {},
     "output_type": "execute_result"
    }
   ],
   "source": [
    "df.isnull().sum()"
   ]
  },
  {
   "cell_type": "markdown",
   "id": "d15362b9",
   "metadata": {},
   "source": [
    "##### Replacing null values with mean() if it was continuous, else mode():"
   ]
  },
  {
   "cell_type": "code",
   "execution_count": 5,
   "id": "fd656fe8",
   "metadata": {},
   "outputs": [
    {
     "name": "stdout",
     "output_type": "stream",
     "text": [
      "<class 'pandas.core.frame.DataFrame'>\n",
      "RangeIndex: 205 entries, 0 to 204\n",
      "Data columns (total 26 columns):\n",
      " #   Column            Non-Null Count  Dtype  \n",
      "---  ------            --------------  -----  \n",
      " 0   symboling         205 non-null    int64  \n",
      " 1   normalizedLosses  164 non-null    float64\n",
      " 2   make              205 non-null    object \n",
      " 3   fuelType          205 non-null    object \n",
      " 4   aspiration        205 non-null    object \n",
      " 5   numofdoors        203 non-null    object \n",
      " 6   bodyStyle         205 non-null    object \n",
      " 7   driveWheels       205 non-null    object \n",
      " 8   engineLocation    205 non-null    object \n",
      " 9   wheelBase         205 non-null    float64\n",
      " 10  length            205 non-null    float64\n",
      " 11  width             205 non-null    float64\n",
      " 12  height            205 non-null    float64\n",
      " 13  curbWeight        205 non-null    int64  \n",
      " 14  engineType        205 non-null    object \n",
      " 15  cylinders         205 non-null    object \n",
      " 16  engineSize        205 non-null    int64  \n",
      " 17  fuelSystem        205 non-null    object \n",
      " 18  bore              201 non-null    float64\n",
      " 19  stroke            201 non-null    float64\n",
      " 20  compRatio         205 non-null    float64\n",
      " 21  horsepower        203 non-null    float64\n",
      " 22  peak_rpm          203 non-null    float64\n",
      " 23  city_mpg          205 non-null    int64  \n",
      " 24  highway_mpg       205 non-null    int64  \n",
      " 25  price             201 non-null    float64\n",
      "dtypes: float64(11), int64(5), object(10)\n",
      "memory usage: 41.8+ KB\n"
     ]
    }
   ],
   "source": [
    "df.info()"
   ]
  },
  {
   "cell_type": "code",
   "execution_count": 6,
   "id": "68f87c76",
   "metadata": {},
   "outputs": [],
   "source": [
    "df.normalizedLosses.fillna(df.normalizedLosses.mean(),inplace=True)"
   ]
  },
  {
   "cell_type": "code",
   "execution_count": 7,
   "id": "71053cbb",
   "metadata": {},
   "outputs": [],
   "source": [
    "df.numofdoors.fillna(df.numofdoors.mode().max(),inplace=True)"
   ]
  },
  {
   "cell_type": "code",
   "execution_count": 8,
   "id": "1f2eb2fb",
   "metadata": {},
   "outputs": [],
   "source": [
    "df.bore.fillna(df.bore.median(),inplace=True)"
   ]
  },
  {
   "cell_type": "code",
   "execution_count": 9,
   "id": "98c6d68c",
   "metadata": {},
   "outputs": [],
   "source": [
    "df.stroke.fillna(df.stroke.mean(),inplace=True)"
   ]
  },
  {
   "cell_type": "code",
   "execution_count": 10,
   "id": "c258c004",
   "metadata": {},
   "outputs": [],
   "source": [
    "df.horsepower.fillna(df.horsepower.mean(),inplace=True)"
   ]
  },
  {
   "cell_type": "code",
   "execution_count": 11,
   "id": "f8bb756e",
   "metadata": {},
   "outputs": [],
   "source": [
    "df.peak_rpm.fillna(df.peak_rpm.mean(),inplace=True)"
   ]
  },
  {
   "cell_type": "code",
   "execution_count": 12,
   "id": "18813025",
   "metadata": {},
   "outputs": [],
   "source": [
    "df.price.fillna(df.price.mean(),inplace=True)"
   ]
  },
  {
   "cell_type": "markdown",
   "id": "5100a5a9",
   "metadata": {},
   "source": [
    "##### Let's check once again the dataset contains any null or not:"
   ]
  },
  {
   "cell_type": "code",
   "execution_count": 13,
   "id": "cbc04f1f",
   "metadata": {},
   "outputs": [
    {
     "data": {
      "text/plain": [
       "symboling           0\n",
       "normalizedLosses    0\n",
       "make                0\n",
       "fuelType            0\n",
       "aspiration          0\n",
       "numofdoors          0\n",
       "bodyStyle           0\n",
       "driveWheels         0\n",
       "engineLocation      0\n",
       "wheelBase           0\n",
       "length              0\n",
       "width               0\n",
       "height              0\n",
       "curbWeight          0\n",
       "engineType          0\n",
       "cylinders           0\n",
       "engineSize          0\n",
       "fuelSystem          0\n",
       "bore                0\n",
       "stroke              0\n",
       "compRatio           0\n",
       "horsepower          0\n",
       "peak_rpm            0\n",
       "city_mpg            0\n",
       "highway_mpg         0\n",
       "price               0\n",
       "dtype: int64"
      ]
     },
     "execution_count": 13,
     "metadata": {},
     "output_type": "execute_result"
    }
   ],
   "source": [
    "df.isnull().sum()"
   ]
  },
  {
   "cell_type": "markdown",
   "id": "7f12e01b",
   "metadata": {},
   "source": [
    "## Let's see what are the columns that affects price:"
   ]
  },
  {
   "cell_type": "markdown",
   "id": "0ba6044b",
   "metadata": {},
   "source": [
    "##### by using pearson and oneway annova"
   ]
  },
  {
   "cell_type": "code",
   "execution_count": 14,
   "id": "6e9964be",
   "metadata": {},
   "outputs": [
    {
     "data": {
      "text/plain": [
       "(-0.0822014373631897, 0.24130433124264047)"
      ]
     },
     "execution_count": 14,
     "metadata": {},
     "output_type": "execute_result"
    }
   ],
   "source": [
    "pearsonr(df.symboling,df.price)"
   ]
  },
  {
   "cell_type": "code",
   "execution_count": 15,
   "id": "2409a1b2",
   "metadata": {},
   "outputs": [
    {
     "data": {
      "text/plain": [
       "(0.13399873429274334, 0.05543057826318259)"
      ]
     },
     "execution_count": 15,
     "metadata": {},
     "output_type": "execute_result"
    }
   ],
   "source": [
    "pearsonr(df.normalizedLosses,df.price)"
   ]
  },
  {
   "cell_type": "code",
   "execution_count": 16,
   "id": "a785ee5c",
   "metadata": {},
   "outputs": [
    {
     "data": {
      "text/plain": [
       "(0.5831681499789547, 4.527625545686765e-20)"
      ]
     },
     "execution_count": 16,
     "metadata": {},
     "output_type": "execute_result"
    }
   ],
   "source": [
    "pearsonr(df.wheelBase,df.price)"
   ]
  },
  {
   "cell_type": "code",
   "execution_count": 17,
   "id": "213d8a09",
   "metadata": {},
   "outputs": [
    {
     "data": {
      "text/plain": [
       "(0.6829862954386214, 1.6498873291220412e-29)"
      ]
     },
     "execution_count": 17,
     "metadata": {},
     "output_type": "execute_result"
    }
   ],
   "source": [
    "pearsonr(df.length,df.price)"
   ]
  },
  {
   "cell_type": "code",
   "execution_count": 18,
   "id": "2f70294b",
   "metadata": {},
   "outputs": [
    {
     "data": {
      "text/plain": [
       "(0.7286988175931839, 3.214520483804664e-35)"
      ]
     },
     "execution_count": 18,
     "metadata": {},
     "output_type": "execute_result"
    }
   ],
   "source": [
    "pearsonr(df.width,df.price)"
   ]
  },
  {
   "cell_type": "code",
   "execution_count": 19,
   "id": "06406f53",
   "metadata": {},
   "outputs": [
    {
     "data": {
      "text/plain": [
       "(0.13438751871051802, 0.054719820484246985)"
      ]
     },
     "execution_count": 19,
     "metadata": {},
     "output_type": "execute_result"
    }
   ],
   "source": [
    "pearsonr(df.height,df.price)"
   ]
  },
  {
   "cell_type": "code",
   "execution_count": 20,
   "id": "e33a5122",
   "metadata": {},
   "outputs": [
    {
     "data": {
      "text/plain": [
       "(0.8208247333547289, 2.866332107027338e-51)"
      ]
     },
     "execution_count": 20,
     "metadata": {},
     "output_type": "execute_result"
    }
   ],
   "source": [
    "pearsonr(df.curbWeight,df.price)"
   ]
  },
  {
   "cell_type": "code",
   "execution_count": 21,
   "id": "4ad9ca1d",
   "metadata": {},
   "outputs": [
    {
     "data": {
      "text/plain": [
       "(0.8617522436859718, 9.669661923636975e-62)"
      ]
     },
     "execution_count": 21,
     "metadata": {},
     "output_type": "execute_result"
    }
   ],
   "source": [
    "pearsonr(df.engineSize,df.price)"
   ]
  },
  {
   "cell_type": "code",
   "execution_count": 22,
   "id": "aed66bbd",
   "metadata": {},
   "outputs": [
    {
     "data": {
      "text/plain": [
       "(0.5323068133842811, 2.137613373309291e-16)"
      ]
     },
     "execution_count": 22,
     "metadata": {},
     "output_type": "execute_result"
    }
   ],
   "source": [
    "pearsonr(df.bore,df.price)"
   ]
  },
  {
   "cell_type": "code",
   "execution_count": 23,
   "id": "d076e911",
   "metadata": {},
   "outputs": [
    {
     "data": {
      "text/plain": [
       "(0.08209529554134323, 0.24191456857746702)"
      ]
     },
     "execution_count": 23,
     "metadata": {},
     "output_type": "execute_result"
    }
   ],
   "source": [
    "pearsonr(df.stroke,df.price)"
   ]
  },
  {
   "cell_type": "code",
   "execution_count": 24,
   "id": "0a0a1c9e",
   "metadata": {},
   "outputs": [
    {
     "data": {
      "text/plain": [
       "(0.07099036277901562, 0.31178249194905244)"
      ]
     },
     "execution_count": 24,
     "metadata": {},
     "output_type": "execute_result"
    }
   ],
   "source": [
    "pearsonr(df.compRatio,df.price)"
   ]
  },
  {
   "cell_type": "code",
   "execution_count": 25,
   "id": "f0204485",
   "metadata": {},
   "outputs": [
    {
     "data": {
      "text/plain": [
       "(0.7579169537498174, 1.607670397813262e-39)"
      ]
     },
     "execution_count": 25,
     "metadata": {},
     "output_type": "execute_result"
    }
   ],
   "source": [
    "pearsonr(df.horsepower,df.price)"
   ]
  },
  {
   "cell_type": "code",
   "execution_count": 26,
   "id": "edf1b79e",
   "metadata": {},
   "outputs": [
    {
     "data": {
      "text/plain": [
       "(-0.10085406591169073, 0.1501924695423236)"
      ]
     },
     "execution_count": 26,
     "metadata": {},
     "output_type": "execute_result"
    }
   ],
   "source": [
    "pearsonr(df.peak_rpm,df.price)"
   ]
  },
  {
   "cell_type": "code",
   "execution_count": 27,
   "id": "213c1ea2",
   "metadata": {},
   "outputs": [
    {
     "data": {
      "text/plain": [
       "(-0.6674492651600006, 8.463700497727447e-28)"
      ]
     },
     "execution_count": 27,
     "metadata": {},
     "output_type": "execute_result"
    }
   ],
   "source": [
    "pearsonr(df.city_mpg,df.price)"
   ]
  },
  {
   "cell_type": "code",
   "execution_count": 28,
   "id": "53a3ae2b",
   "metadata": {},
   "outputs": [
    {
     "data": {
      "text/plain": [
       "(-0.6905257341183484, 2.232467405837684e-30)"
      ]
     },
     "execution_count": 28,
     "metadata": {},
     "output_type": "execute_result"
    }
   ],
   "source": [
    "pearsonr(df.highway_mpg,df.price)"
   ]
  },
  {
   "cell_type": "code",
   "execution_count": 29,
   "id": "dfe1681e",
   "metadata": {},
   "outputs": [
    {
     "data": {
      "text/plain": [
       "F_onewayResult(statistic=2.4958589760681935, pvalue=0.11570297526361666)"
      ]
     },
     "execution_count": 29,
     "metadata": {},
     "output_type": "execute_result"
    }
   ],
   "source": [
    "stats.f_oneway(df.price[df.fuelType=='gas'],df.price[df.fuelType=='diesel'])"
   ]
  },
  {
   "cell_type": "code",
   "execution_count": 30,
   "id": "5831728b",
   "metadata": {},
   "outputs": [
    {
     "data": {
      "text/plain": [
       "F_onewayResult(statistic=6.587289855140993, pvalue=0.010991046478632666)"
      ]
     },
     "execution_count": 30,
     "metadata": {},
     "output_type": "execute_result"
    }
   ],
   "source": [
    "stats.f_oneway(df.price[df.aspiration=='std'],df.price[df.aspiration=='turbo'])"
   ]
  },
  {
   "cell_type": "code",
   "execution_count": 31,
   "id": "10aaed90",
   "metadata": {},
   "outputs": [
    {
     "data": {
      "text/plain": [
       "F_onewayResult(statistic=0.35778516571700403, pvalue=0.5504056367624801)"
      ]
     },
     "execution_count": 31,
     "metadata": {},
     "output_type": "execute_result"
    }
   ],
   "source": [
    "stats.f_oneway(df.price[df.numofdoors=='four'],df.price[df.numofdoors=='two'])"
   ]
  },
  {
   "cell_type": "code",
   "execution_count": 32,
   "id": "eb5d21db",
   "metadata": {},
   "outputs": [
    {
     "data": {
      "text/plain": [
       "F_onewayResult(statistic=67.5036668266912, pvalue=3.5392707916047903e-23)"
      ]
     },
     "execution_count": 32,
     "metadata": {},
     "output_type": "execute_result"
    }
   ],
   "source": [
    "stats.f_oneway(df.price[df.driveWheels=='fwd'],df.price[df.driveWheels=='rwd'],df.price[df.driveWheels=='4wd'])"
   ]
  },
  {
   "cell_type": "code",
   "execution_count": 33,
   "id": "7f777797",
   "metadata": {},
   "outputs": [
    {
     "data": {
      "text/plain": [
       "F_onewayResult(statistic=9.183927252573389, pvalue=7.844575720929884e-07)"
      ]
     },
     "execution_count": 33,
     "metadata": {},
     "output_type": "execute_result"
    }
   ],
   "source": [
    "stats.f_oneway(df.price[df.bodyStyle=='convertible'],df.price[df.bodyStyle=='hatchback'],df.price[df.bodyStyle=='sedan'],df.price[df.bodyStyle=='wagon'],df.price[df.bodyStyle=='hardtop'])"
   ]
  },
  {
   "cell_type": "code",
   "execution_count": 34,
   "id": "8eca5291",
   "metadata": {},
   "outputs": [
    {
     "data": {
      "text/plain": [
       "F_onewayResult(statistic=24.979629190446918, pvalue=1.2486063656822578e-06)"
      ]
     },
     "execution_count": 34,
     "metadata": {},
     "output_type": "execute_result"
    }
   ],
   "source": [
    "stats.f_oneway(df.price[df.engineLocation=='front'],df.price[df.engineLocation=='rear'])"
   ]
  },
  {
   "cell_type": "code",
   "execution_count": 35,
   "id": "97838ed3",
   "metadata": {},
   "outputs": [
    {
     "data": {
      "text/plain": [
       "F_onewayResult(statistic=8.880041876905345, pvalue=1.3919774978921531e-07)"
      ]
     },
     "execution_count": 35,
     "metadata": {},
     "output_type": "execute_result"
    }
   ],
   "source": [
    "stats.f_oneway(df.price[df.engineType=='ohc'],df.price[df.engineType=='ohcf'],df.price[df.engineType=='ohcv'],df.price[df.engineType=='l'],df.price[df.engineType=='rotor'],df.price[df.engineType=='dohcv'])"
   ]
  },
  {
   "cell_type": "code",
   "execution_count": 36,
   "id": "73f423af",
   "metadata": {},
   "outputs": [
    {
     "data": {
      "text/plain": [
       "F_onewayResult(statistic=45.72705376201727, pvalue=7.149269882584999e-35)"
      ]
     },
     "execution_count": 36,
     "metadata": {},
     "output_type": "execute_result"
    }
   ],
   "source": [
    "stats.f_oneway(df.price[df.cylinders=='four'],df.price[df.cylinders=='six'],df.price[df.cylinders=='five'],df.price[df.cylinders=='eight'],df.price[df.cylinders=='two'],df.price[df.cylinders=='three'],df.price[df.cylinders=='twelve'])"
   ]
  },
  {
   "cell_type": "code",
   "execution_count": 37,
   "id": "a4d03331",
   "metadata": {},
   "outputs": [
    {
     "data": {
      "text/plain": [
       "F_onewayResult(statistic=14.797402090222409, pvalue=1.8657347748825717e-15)"
      ]
     },
     "execution_count": 37,
     "metadata": {},
     "output_type": "execute_result"
    }
   ],
   "source": [
    "stats.f_oneway(df.price[df.fuelSystem=='mpfi'],df.price[df.fuelSystem=='2bbl'],df.price[df.fuelSystem=='idi'],df.price[df.fuelSystem=='1bbl'],df.price[df.fuelSystem=='spdi'],df.price[df.fuelSystem=='4bbl'],df.price[df.fuelSystem=='mfi'],df.price[df.fuelSystem=='spfi'])"
   ]
  },
  {
   "cell_type": "markdown",
   "id": "38ef98eb",
   "metadata": {},
   "source": [
    "### Columns that Not affects price:\n",
    "\n",
    "symboling, normalizedLosses, make, height, numofdoors, stroke, compRatio, peak_rpm, fuelType "
   ]
  },
  {
   "cell_type": "code",
   "execution_count": 38,
   "id": "aefcb85b",
   "metadata": {},
   "outputs": [],
   "source": [
    "df.drop(['symboling','normalizedLosses','make','height','numofdoors','stroke','compRatio','peak_rpm','fuelType'],axis=1,inplace=True)"
   ]
  },
  {
   "cell_type": "markdown",
   "id": "1cd06ce0",
   "metadata": {},
   "source": [
    "##### data after removing data which does not affect price:"
   ]
  },
  {
   "cell_type": "code",
   "execution_count": 39,
   "id": "f22d2976",
   "metadata": {},
   "outputs": [
    {
     "data": {
      "text/plain": [
       "Index(['aspiration', 'bodyStyle', 'driveWheels', 'engineLocation', 'wheelBase',\n",
       "       'length', 'width', 'curbWeight', 'engineType', 'cylinders',\n",
       "       'engineSize', 'fuelSystem', 'bore', 'horsepower', 'city_mpg',\n",
       "       'highway_mpg', 'price'],\n",
       "      dtype='object')"
      ]
     },
     "execution_count": 39,
     "metadata": {},
     "output_type": "execute_result"
    }
   ],
   "source": [
    "df.columns"
   ]
  },
  {
   "cell_type": "code",
   "execution_count": 40,
   "id": "22967aa9",
   "metadata": {},
   "outputs": [
    {
     "name": "stdout",
     "output_type": "stream",
     "text": [
      "<class 'pandas.core.frame.DataFrame'>\n",
      "RangeIndex: 205 entries, 0 to 204\n",
      "Data columns (total 17 columns):\n",
      " #   Column          Non-Null Count  Dtype  \n",
      "---  ------          --------------  -----  \n",
      " 0   aspiration      205 non-null    object \n",
      " 1   bodyStyle       205 non-null    object \n",
      " 2   driveWheels     205 non-null    object \n",
      " 3   engineLocation  205 non-null    object \n",
      " 4   wheelBase       205 non-null    float64\n",
      " 5   length          205 non-null    float64\n",
      " 6   width           205 non-null    float64\n",
      " 7   curbWeight      205 non-null    int64  \n",
      " 8   engineType      205 non-null    object \n",
      " 9   cylinders       205 non-null    object \n",
      " 10  engineSize      205 non-null    int64  \n",
      " 11  fuelSystem      205 non-null    object \n",
      " 12  bore            205 non-null    float64\n",
      " 13  horsepower      205 non-null    float64\n",
      " 14  city_mpg        205 non-null    int64  \n",
      " 15  highway_mpg     205 non-null    int64  \n",
      " 16  price           205 non-null    float64\n",
      "dtypes: float64(6), int64(4), object(7)\n",
      "memory usage: 27.4+ KB\n"
     ]
    }
   ],
   "source": [
    "df.info()"
   ]
  },
  {
   "cell_type": "markdown",
   "id": "3a1ca9b3",
   "metadata": {},
   "source": [
    "#### For Linear Regression, dataset should have only int and float type values, but here some column contains string data type. so, I''ll going to replace those string values by integer values"
   ]
  },
  {
   "cell_type": "code",
   "execution_count": 41,
   "id": "c93fb179",
   "metadata": {},
   "outputs": [],
   "source": [
    "df.aspiration = df.aspiration.replace('std',0)\n",
    "df.aspiration = df.aspiration.replace('turbo',1)"
   ]
  },
  {
   "cell_type": "code",
   "execution_count": 42,
   "id": "f8e14891",
   "metadata": {},
   "outputs": [],
   "source": [
    "df.bodyStyle = df.bodyStyle.replace('sedan',0)\n",
    "df.bodyStyle = df.bodyStyle.replace('hatchback',1)\n",
    "df.bodyStyle = df.bodyStyle.replace('wagon',2)\n",
    "df.bodyStyle = df.bodyStyle.replace('hardtop',3)\n",
    "df.bodyStyle = df.bodyStyle.replace('convertible',4)"
   ]
  },
  {
   "cell_type": "code",
   "execution_count": 43,
   "id": "e6f59a47",
   "metadata": {},
   "outputs": [],
   "source": [
    "df.driveWheels = df.driveWheels.replace('fwd',1)\n",
    "df.driveWheels = df.driveWheels.replace('rwd',2)\n",
    "df.driveWheels = df.driveWheels.replace('4wd',4)"
   ]
  },
  {
   "cell_type": "code",
   "execution_count": 44,
   "id": "5cba53cf",
   "metadata": {},
   "outputs": [],
   "source": [
    "df.engineLocation = df.engineLocation.replace('front',1)\n",
    "df.engineLocation = df.engineLocation.replace('rear',2)"
   ]
  },
  {
   "cell_type": "code",
   "execution_count": 45,
   "id": "ea9e42f0",
   "metadata": {},
   "outputs": [],
   "source": [
    "df.engineType = df.engineType.replace('ohc',0)\n",
    "df.engineType = df.engineType.replace('ohcf',1)\n",
    "df.engineType = df.engineType.replace('ohcv',2)\n",
    "df.engineType = df.engineType.replace('dohc',3)\n",
    "df.engineType = df.engineType.replace('l',4)\n",
    "df.engineType = df.engineType.replace('rotor',5)\n",
    "df.engineType = df.engineType.replace('dohcv',2)"
   ]
  },
  {
   "cell_type": "code",
   "execution_count": 46,
   "id": "c2e942f8",
   "metadata": {},
   "outputs": [],
   "source": [
    "df.cylinders = df.cylinders.replace('four',4)\n",
    "df.cylinders = df.cylinders.replace('six',6)\n",
    "df.cylinders = df.cylinders.replace('eight',8)\n",
    "df.cylinders = df.cylinders.replace('five',5)\n",
    "df.cylinders = df.cylinders.replace('two',2)\n",
    "df.cylinders = df.cylinders.replace('three',3)\n",
    "df.cylinders = df.cylinders.replace('twelve',12)"
   ]
  },
  {
   "cell_type": "code",
   "execution_count": 47,
   "id": "145379c5",
   "metadata": {},
   "outputs": [],
   "source": [
    "df.fuelSystem = df.fuelSystem.replace('mpfi',0)\n",
    "df.fuelSystem = df.fuelSystem.replace('2bbl',1)\n",
    "df.fuelSystem = df.fuelSystem.replace('idi',2)\n",
    "df.fuelSystem = df.fuelSystem.replace('1bbl',3)\n",
    "df.fuelSystem = df.fuelSystem.replace('spdi',4)\n",
    "df.fuelSystem = df.fuelSystem.replace('4bbl',5)\n",
    "df.fuelSystem = df.fuelSystem.replace('mfi',0)\n",
    "df.fuelSystem = df.fuelSystem.replace('spfi',0)"
   ]
  },
  {
   "cell_type": "markdown",
   "id": "453c7ed3",
   "metadata": {},
   "source": [
    "##### After replace Let's see the dataset"
   ]
  },
  {
   "cell_type": "code",
   "execution_count": 48,
   "id": "09bc0e70",
   "metadata": {},
   "outputs": [
    {
     "name": "stdout",
     "output_type": "stream",
     "text": [
      "<class 'pandas.core.frame.DataFrame'>\n",
      "RangeIndex: 205 entries, 0 to 204\n",
      "Data columns (total 17 columns):\n",
      " #   Column          Non-Null Count  Dtype  \n",
      "---  ------          --------------  -----  \n",
      " 0   aspiration      205 non-null    int64  \n",
      " 1   bodyStyle       205 non-null    int64  \n",
      " 2   driveWheels     205 non-null    int64  \n",
      " 3   engineLocation  205 non-null    int64  \n",
      " 4   wheelBase       205 non-null    float64\n",
      " 5   length          205 non-null    float64\n",
      " 6   width           205 non-null    float64\n",
      " 7   curbWeight      205 non-null    int64  \n",
      " 8   engineType      205 non-null    int64  \n",
      " 9   cylinders       205 non-null    int64  \n",
      " 10  engineSize      205 non-null    int64  \n",
      " 11  fuelSystem      205 non-null    int64  \n",
      " 12  bore            205 non-null    float64\n",
      " 13  horsepower      205 non-null    float64\n",
      " 14  city_mpg        205 non-null    int64  \n",
      " 15  highway_mpg     205 non-null    int64  \n",
      " 16  price           205 non-null    float64\n",
      "dtypes: float64(6), int64(11)\n",
      "memory usage: 27.4 KB\n"
     ]
    }
   ],
   "source": [
    "df.info()"
   ]
  },
  {
   "cell_type": "markdown",
   "id": "484df916",
   "metadata": {},
   "source": [
    "### Splitting the dataset into training and testing set"
   ]
  },
  {
   "cell_type": "code",
   "execution_count": 49,
   "id": "095216b7",
   "metadata": {},
   "outputs": [],
   "source": [
    "x = df.drop(['price'],axis=1)"
   ]
  },
  {
   "cell_type": "code",
   "execution_count": 50,
   "id": "5eb5716c",
   "metadata": {},
   "outputs": [],
   "source": [
    "y = df['price']"
   ]
  },
  {
   "cell_type": "code",
   "execution_count": 51,
   "id": "e9baa7ed",
   "metadata": {},
   "outputs": [],
   "source": [
    "train_x,test_x,train_y,test_y= train_test_split(x,y,test_size=0.2,random_state=42)"
   ]
  },
  {
   "cell_type": "markdown",
   "id": "a43fb363",
   "metadata": {},
   "source": [
    "### Build a Linear model"
   ]
  },
  {
   "cell_type": "code",
   "execution_count": 52,
   "id": "85771954",
   "metadata": {},
   "outputs": [
    {
     "data": {
      "text/plain": [
       "LinearRegression()"
      ]
     },
     "execution_count": 52,
     "metadata": {},
     "output_type": "execute_result"
    }
   ],
   "source": [
    "model = LinearRegression()\n",
    "model.fit(train_x,train_y)"
   ]
  },
  {
   "cell_type": "code",
   "execution_count": 53,
   "id": "286fa8fa",
   "metadata": {},
   "outputs": [],
   "source": [
    "predictions = model.predict(test_x)"
   ]
  },
  {
   "cell_type": "code",
   "execution_count": 54,
   "id": "eac72554",
   "metadata": {},
   "outputs": [
    {
     "data": {
      "text/plain": [
       "array([23537.42898672, 20127.55433323, 10483.92807594, 12128.64553344,\n",
       "       25262.15442499,  6336.92150416,  6079.93275661,  7979.42800193,\n",
       "        8079.63075093,  7230.70820773, 16475.81292635,  8061.84744301,\n",
       "       14964.06327579, 12803.2187308 , 39357.55231694,  6206.89432872,\n",
       "       -3584.8067507 , 16552.99319875, 11490.57297634,  8320.85719624,\n",
       "       12261.44474004, 19656.51675528,  5812.31425233,  2285.22537354,\n",
       "        6599.724045  , 24488.1020121 , 13644.48371662, 15302.4871689 ,\n",
       "        5922.22698877, 15698.30659639, 25451.86986705,  6250.42821806,\n",
       "        9712.31150553, 20955.29751732,  8452.55606969, 24328.4123948 ,\n",
       "       11977.58799127,  7873.17932006,  4916.17604703, 16672.34816801,\n",
       "        7441.3323669 ])"
      ]
     },
     "execution_count": 54,
     "metadata": {},
     "output_type": "execute_result"
    }
   ],
   "source": [
    "predictions"
   ]
  },
  {
   "cell_type": "markdown",
   "id": "f2e1742c",
   "metadata": {},
   "source": [
    "### Accuracy Check:"
   ]
  },
  {
   "cell_type": "code",
   "execution_count": 55,
   "id": "65be2789",
   "metadata": {},
   "outputs": [
    {
     "name": "stdout",
     "output_type": "stream",
     "text": [
      "76%\n"
     ]
    }
   ],
   "source": [
    "score = str(model.score(test_x,test_y))\n",
    "print(score[2:4]+'%')"
   ]
  }
 ],
 "metadata": {
  "kernelspec": {
   "display_name": "Python 3 (ipykernel)",
   "language": "python",
   "name": "python3"
  },
  "language_info": {
   "codemirror_mode": {
    "name": "ipython",
    "version": 3
   },
   "file_extension": ".py",
   "mimetype": "text/x-python",
   "name": "python",
   "nbconvert_exporter": "python",
   "pygments_lexer": "ipython3",
   "version": "3.9.7"
  }
 },
 "nbformat": 4,
 "nbformat_minor": 5
}
